{
  "nbformat": 4,
  "nbformat_minor": 0,
  "metadata": {
    "colab": {
      "provenance": [],
      "authorship_tag": "ABX9TyOg21y2DDAgeNFg6mVp0AYF",
      "include_colab_link": true
    },
    "kernelspec": {
      "name": "python3",
      "display_name": "Python 3"
    },
    "language_info": {
      "name": "python"
    }
  },
  "cells": [
    {
      "cell_type": "markdown",
      "metadata": {
        "id": "view-in-github",
        "colab_type": "text"
      },
      "source": [
        "<a href=\"https://colab.research.google.com/github/Kashish-x1/Oops-concept-in-python-/blob/main/oops.ipynb\" target=\"_parent\"><img src=\"https://colab.research.google.com/assets/colab-badge.svg\" alt=\"Open In Colab\"/></a>"
      ]
    },
    {
      "cell_type": "code",
      "execution_count": null,
      "metadata": {
        "colab": {
          "base_uri": "https://localhost:8080/",
          "height": 158
        },
        "id": "ezS9kRJGEzYj",
        "outputId": "8f88b859-1c28-4723-ea2d-2ba942d529ae"
      },
      "outputs": [
        {
          "output_type": "error",
          "ename": "AttributeError",
          "evalue": "'list' object has no attribute 'upper'",
          "traceback": [
            "\u001b[0;31m---------------------------------------------------------------------------\u001b[0m",
            "\u001b[0;31mAttributeError\u001b[0m                            Traceback (most recent call last)",
            "\u001b[0;32m<ipython-input-1-97f5dddf8d10>\u001b[0m in \u001b[0;36m<cell line: 2>\u001b[0;34m()\u001b[0m\n\u001b[1;32m      1\u001b[0m \u001b[0ml\u001b[0m \u001b[0;34m=\u001b[0m\u001b[0;34m[\u001b[0m\u001b[0;36m1\u001b[0m\u001b[0;34m,\u001b[0m\u001b[0;36m2\u001b[0m\u001b[0;34m,\u001b[0m\u001b[0;36m3\u001b[0m\u001b[0;34m]\u001b[0m\u001b[0;34m\u001b[0m\u001b[0;34m\u001b[0m\u001b[0m\n\u001b[0;32m----> 2\u001b[0;31m \u001b[0ml\u001b[0m\u001b[0;34m.\u001b[0m\u001b[0mupper\u001b[0m\u001b[0;34m(\u001b[0m\u001b[0;34m)\u001b[0m\u001b[0;34m\u001b[0m\u001b[0;34m\u001b[0m\u001b[0m\n\u001b[0m",
            "\u001b[0;31mAttributeError\u001b[0m: 'list' object has no attribute 'upper'"
          ]
        }
      ],
      "source": [
        "l =[1,2,3]\n",
        "l.upper()"
      ]
    },
    {
      "cell_type": "code",
      "source": [
        "s = 'hello'\n",
        "s.append('x')"
      ],
      "metadata": {
        "colab": {
          "base_uri": "https://localhost:8080/",
          "height": 158
        },
        "id": "rYJstUs4FRK1",
        "outputId": "9c45bcd5-eb26-4f09-9301-15c27e9c721b"
      },
      "execution_count": null,
      "outputs": [
        {
          "output_type": "error",
          "ename": "AttributeError",
          "evalue": "'str' object has no attribute 'append'",
          "traceback": [
            "\u001b[0;31m---------------------------------------------------------------------------\u001b[0m",
            "\u001b[0;31mAttributeError\u001b[0m                            Traceback (most recent call last)",
            "\u001b[0;32m<ipython-input-2-2cb7c5babec0>\u001b[0m in \u001b[0;36m<cell line: 2>\u001b[0;34m()\u001b[0m\n\u001b[1;32m      1\u001b[0m \u001b[0ms\u001b[0m \u001b[0;34m=\u001b[0m \u001b[0;34m'hello'\u001b[0m\u001b[0;34m\u001b[0m\u001b[0;34m\u001b[0m\u001b[0m\n\u001b[0;32m----> 2\u001b[0;31m \u001b[0ms\u001b[0m\u001b[0;34m.\u001b[0m\u001b[0mappend\u001b[0m\u001b[0;34m(\u001b[0m\u001b[0;34m'x'\u001b[0m\u001b[0;34m)\u001b[0m\u001b[0;34m\u001b[0m\u001b[0;34m\u001b[0m\u001b[0m\n\u001b[0m",
            "\u001b[0;31mAttributeError\u001b[0m: 'str' object has no attribute 'append'"
          ]
        }
      ]
    },
    {
      "cell_type": "code",
      "source": [
        "list=[1,2,3]\n",
        "print(type(list))\n",
        "list."
      ],
      "metadata": {
        "colab": {
          "base_uri": "https://localhost:8080/"
        },
        "id": "7bN961GXHIoY",
        "outputId": "f2653909-491a-47bf-c1fb-e686f2a48f44"
      },
      "execution_count": null,
      "outputs": [
        {
          "output_type": "stream",
          "name": "stdout",
          "text": [
            "<class 'list'>\n"
          ]
        }
      ]
    },
    {
      "cell_type": "code",
      "source": [
        "#syntax to create an object\n",
        "# objectname = classname()\n"
      ],
      "metadata": {
        "id": "x20oEEEyIhYQ"
      },
      "execution_count": null,
      "outputs": []
    },
    {
      "cell_type": "code",
      "source": [
        "# object literal\n",
        "l = [1,2]"
      ],
      "metadata": {
        "id": "ZbzBY-8lI5sO"
      },
      "execution_count": null,
      "outputs": []
    },
    {
      "cell_type": "code",
      "source": [
        "s = str()\n",
        "print(s)"
      ],
      "metadata": {
        "colab": {
          "base_uri": "https://localhost:8080/"
        },
        "id": "kEOzW5P1JDHH",
        "outputId": "47a421c9-d80c-4a19-b34e-0fef31e20ed7"
      },
      "execution_count": null,
      "outputs": [
        {
          "output_type": "stream",
          "name": "stdout",
          "text": [
            "\n"
          ]
        }
      ]
    },
    {
      "cell_type": "code",
      "source": [
        "# pascal case\n",
        "# HelloWorld"
      ],
      "metadata": {
        "id": "v_gQ5ZGYJw9v"
      },
      "execution_count": null,
      "outputs": []
    },
    {
      "cell_type": "code",
      "source": [
        "class Atm:    #user defined classs\n",
        "  #constructor(speecial function)->superpwer no need to call the function it get call explicitely\n",
        "  def __init__(self):\n",
        "    print(id(self))\n",
        "    self.pin =''\n",
        "    self.balance =0\n",
        "    # self.menu()\n",
        "  def menu(self):\n",
        "     user_input = input(\"\"\"\n",
        "    hi how can i help you?\n",
        "    1. press 1 to create pin\n",
        "    2. press 2 to change pin\n",
        "    3. press 3 to check balance\n",
        "    4. press 4 to  withdraw\n",
        "    5. press 5 to exit\n",
        "    \"\"\")\n",
        "     if user_input == '1':\n",
        "      #create pin\n",
        "      self.create_pin()\n",
        "     elif user_input == '2':\n",
        "      #change pin\n",
        "      self.change_pin()\n",
        "     elif user_input == '3':\n",
        "      #check balance\n",
        "      self.check_balance()\n",
        "     elif user_input == '4':\n",
        "      # withdraw\n",
        "      self.withdraw()\n",
        "     else:\n",
        "       exit()\n",
        "  def create_pin(self):\n",
        "    user_pin = input('enter your pin')\n",
        "    self.pin = user_pin\n",
        "\n",
        "    user_balance = int(input('enter your balance '))\n",
        "    self.balance = user_balance\n",
        "\n",
        "    print('pin created succesfully ')\n",
        "    self.menu()\n",
        "\n",
        "  def change_pin(self):\n",
        "    old_pin = input('enter your old pin')\n",
        "    if old_pin == self.pin:\n",
        "      #let him change the pin\n",
        "      new_pin = input('enter new pin')\n",
        "      print('pin change succesfully')\n",
        "      self.menu()\n",
        "    else:\n",
        "      print('invalid')\n",
        "      self.menu()\n",
        "\n",
        "    def check_balance(self):\n",
        "      user_pin = input('enter your pin')\n",
        "      if user_pin == self.pin:\n",
        "        print('your balance is', self.balance)\n",
        "      else:\n",
        "        print('wrong pin')\n",
        "\n",
        "    def withdraw(self):\n",
        "      user_pin = input('enter the pin')\n",
        "      if user_pin == self.pin:\n",
        "        #allow to withdraw\n",
        "        amount = int(input('enter the amount'))\n",
        "        if amount<=self.balance:\n",
        "          self.balance = self.balance - amount\n",
        "          print('withdrawl  succesfull')\n",
        "        else:\n",
        "            print('insuficient balance')\n",
        "      else:\n",
        "          print('invalid')\n",
        "      self.menu()"
      ],
      "metadata": {
        "id": "qqJFppYkJ1wh"
      },
      "execution_count": null,
      "outputs": []
    },
    {
      "cell_type": "code",
      "source": [
        "obj = Atm()               # self -> object"
      ],
      "metadata": {
        "id": "xz775rtV9bjh",
        "colab": {
          "base_uri": "https://localhost:8080/"
        },
        "outputId": "838a7f6c-2fab-4a5b-bdae-22bf7fc75290"
      },
      "execution_count": null,
      "outputs": [
        {
          "output_type": "stream",
          "name": "stdout",
          "text": [
            "132911819807312\n"
          ]
        }
      ]
    },
    {
      "cell_type": "code",
      "source": [
        "id(obj)"
      ],
      "metadata": {
        "colab": {
          "base_uri": "https://localhost:8080/"
        },
        "id": "xlcJLbu-LICa",
        "outputId": "eaca64a0-bab8-48b0-f502-ab8b9a798e3f"
      },
      "execution_count": null,
      "outputs": [
        {
          "output_type": "execute_result",
          "data": {
            "text/plain": [
              "132911819807312"
            ]
          },
          "metadata": {},
          "execution_count": 14
        }
      ]
    },
    {
      "cell_type": "code",
      "source": [
        "print(type(obj))"
      ],
      "metadata": {
        "colab": {
          "base_uri": "https://localhost:8080/"
        },
        "id": "4uv4dHgm9vsO",
        "outputId": "64749209-dfc5-416a-80e0-cfb22b70250b"
      },
      "execution_count": null,
      "outputs": [
        {
          "output_type": "stream",
          "name": "stdout",
          "text": [
            "<class '__main__.Atm'>\n"
          ]
        }
      ]
    },
    {
      "cell_type": "code",
      "source": [
        "l =[1,2,3]\n",
        "len(l)  # function beacuse it is out of class list\n",
        "l.append() # method because it is inside the class\n",
        "\n"
      ],
      "metadata": {
        "id": "LHjg2ojp90HI"
      },
      "execution_count": null,
      "outputs": []
    },
    {
      "cell_type": "code",
      "source": [
        "# magic method -> special  methods that have special power __name__ like constructor\n",
        "class temp:\n",
        "  def __init__(self):\n",
        "    print('hello')\n",
        "object = temp()"
      ],
      "metadata": {
        "id": "05UjRo8jC-2N",
        "colab": {
          "base_uri": "https://localhost:8080/"
        },
        "outputId": "01a024df-0d28-44ab-9a0c-a92f49739aa3"
      },
      "execution_count": null,
      "outputs": [
        {
          "output_type": "stream",
          "name": "stdout",
          "text": [
            "hello\n"
          ]
        }
      ]
    },
    {
      "cell_type": "code",
      "source": [
        "class Fraction:\n",
        "  #parametrised constructor -> that needs input\n",
        "  def __init__(self,x,y):\n",
        "    self.num = x\n",
        "    self.den = y\n",
        "  def __str__(self):\n",
        "    return '{}/{}'.format(self.num,self.den)\n",
        "\n",
        "  def __add__(self,other):\n",
        "    new_num = self.num*other.den+other.num *self.den\n",
        "    new_den = self.den * other.den\n",
        "    return '{}/{}'.format(new_num,new_den)\n",
        "\n",
        "  def __sub__(self,other):\n",
        "    new_num = self.num*other.den-other.num *self.den\n",
        "    new_den = self.den * other.den\n",
        "    return '{}/{}'.format(new_num,new_den)\n",
        "\n",
        "  def __mul__(self,other):\n",
        "    new_num = self.num*other.num\n",
        "    new_den = self.den * other.den\n",
        "    return '{}/{}'.format(new_num,new_den)\n",
        "\n",
        "  def __truediv__(self,other):\n",
        "    new_num = self.num*other.den\n",
        "    new_den = self.den * other.num\n",
        "    return '{}/{}'.format(new_num,new_den)\n"
      ],
      "metadata": {
        "id": "wpEugVPZwz7i"
      },
      "execution_count": null,
      "outputs": []
    },
    {
      "cell_type": "code",
      "source": [
        "fr1 = Fraction(3,4)"
      ],
      "metadata": {
        "id": "za8xkKJQxBKy"
      },
      "execution_count": null,
      "outputs": []
    },
    {
      "cell_type": "code",
      "source": [
        "print(fr1)"
      ],
      "metadata": {
        "colab": {
          "base_uri": "https://localhost:8080/"
        },
        "id": "55_qGSDA56Ao",
        "outputId": "39dbbefc-97b0-4af1-a771-2bce7eee487b"
      },
      "execution_count": null,
      "outputs": [
        {
          "output_type": "stream",
          "name": "stdout",
          "text": [
            "3/4\n"
          ]
        }
      ]
    },
    {
      "cell_type": "code",
      "source": [
        "fr2 = Fraction(1,2)"
      ],
      "metadata": {
        "id": "gC32JKOx8Fn5"
      },
      "execution_count": null,
      "outputs": []
    },
    {
      "cell_type": "code",
      "source": [
        "print(fr2)"
      ],
      "metadata": {
        "colab": {
          "base_uri": "https://localhost:8080/"
        },
        "id": "ftJnFN6I8BWh",
        "outputId": "ed6bc02f-38ff-421a-acb8-f86d9b3c465f"
      },
      "execution_count": null,
      "outputs": [
        {
          "output_type": "stream",
          "name": "stdout",
          "text": [
            "1/2\n"
          ]
        }
      ]
    },
    {
      "cell_type": "code",
      "source": [
        "print(fr1+fr2)\n"
      ],
      "metadata": {
        "colab": {
          "base_uri": "https://localhost:8080/"
        },
        "id": "-imLrNK17flE",
        "outputId": "160d692e-ffda-430f-b023-e037a4edd3c6"
      },
      "execution_count": null,
      "outputs": [
        {
          "output_type": "stream",
          "name": "stdout",
          "text": [
            "10/8\n"
          ]
        }
      ]
    },
    {
      "cell_type": "code",
      "source": [
        "s1 = {1,2}\n",
        "s2 = {3,4}\n",
        "s1 +s2"
      ],
      "metadata": {
        "colab": {
          "base_uri": "https://localhost:8080/",
          "height": 176
        },
        "id": "xT40yMrg8PsE",
        "outputId": "56da10fe-01e9-4539-8dd5-36ab18b4ace1"
      },
      "execution_count": null,
      "outputs": [
        {
          "output_type": "error",
          "ename": "TypeError",
          "evalue": "unsupported operand type(s) for +: 'set' and 'set'",
          "traceback": [
            "\u001b[0;31m---------------------------------------------------------------------------\u001b[0m",
            "\u001b[0;31mTypeError\u001b[0m                                 Traceback (most recent call last)",
            "\u001b[0;32m<ipython-input-14-e29deeb99f39>\u001b[0m in \u001b[0;36m<cell line: 3>\u001b[0;34m()\u001b[0m\n\u001b[1;32m      1\u001b[0m \u001b[0ms1\u001b[0m \u001b[0;34m=\u001b[0m \u001b[0;34m{\u001b[0m\u001b[0;36m1\u001b[0m\u001b[0;34m,\u001b[0m\u001b[0;36m2\u001b[0m\u001b[0;34m}\u001b[0m\u001b[0;34m\u001b[0m\u001b[0;34m\u001b[0m\u001b[0m\n\u001b[1;32m      2\u001b[0m \u001b[0ms2\u001b[0m \u001b[0;34m=\u001b[0m \u001b[0;34m{\u001b[0m\u001b[0;36m3\u001b[0m\u001b[0;34m,\u001b[0m\u001b[0;36m4\u001b[0m\u001b[0;34m}\u001b[0m\u001b[0;34m\u001b[0m\u001b[0;34m\u001b[0m\u001b[0m\n\u001b[0;32m----> 3\u001b[0;31m \u001b[0ms1\u001b[0m \u001b[0;34m+\u001b[0m\u001b[0ms2\u001b[0m\u001b[0;34m\u001b[0m\u001b[0;34m\u001b[0m\u001b[0m\n\u001b[0m",
            "\u001b[0;31mTypeError\u001b[0m: unsupported operand type(s) for +: 'set' and 'set'"
          ]
        }
      ]
    },
    {
      "cell_type": "code",
      "source": [
        "print(fr1-fr2)"
      ],
      "metadata": {
        "colab": {
          "base_uri": "https://localhost:8080/"
        },
        "id": "_2OKEUDv8b4B",
        "outputId": "622f8ba0-6378-4700-ce93-381f2a322e25"
      },
      "execution_count": null,
      "outputs": [
        {
          "output_type": "stream",
          "name": "stdout",
          "text": [
            "2/8\n"
          ]
        }
      ]
    },
    {
      "cell_type": "code",
      "source": [
        "print(fr1*fr2)"
      ],
      "metadata": {
        "colab": {
          "base_uri": "https://localhost:8080/"
        },
        "id": "nLUaifV8-cAM",
        "outputId": "b9a9cc25-c690-4e78-eeed-828e2c0a0ac7"
      },
      "execution_count": null,
      "outputs": [
        {
          "output_type": "stream",
          "name": "stdout",
          "text": [
            "3/8\n"
          ]
        }
      ]
    },
    {
      "cell_type": "code",
      "source": [
        "print(fr1/fr2)"
      ],
      "metadata": {
        "colab": {
          "base_uri": "https://localhost:8080/"
        },
        "id": "nADK87s5_CYl",
        "outputId": "06112cd1-cb23-416e-8eec-248f8f76c006"
      },
      "execution_count": null,
      "outputs": [
        {
          "output_type": "stream",
          "name": "stdout",
          "text": [
            "6/4\n"
          ]
        }
      ]
    },
    {
      "cell_type": "code",
      "source": [
        "class Point:\n",
        "\n",
        "  def __init__(self, x, y):\n",
        "    self.x_cod = x\n",
        "    self.y_cod = y\n",
        "\n",
        "  def __str__(self):\n",
        "    return '<{},{}>'.format(self.x_cod,self.y_cod)\n",
        "\n",
        "  def euclidean_distance(self,other):\n",
        "    return ((self.x_cod - other.x_cod)**2 + (self.y_cod- other.y_cod)**2)**0.5\n",
        "\n",
        "  def distance_from_origin(self):\n",
        "    return self.euclidean_distance(Point(0,0))\n",
        "\n",
        "\n",
        "class Line:\n",
        "  def __init__(self,A,B,C):\n",
        "    self.A = A\n",
        "    self.B = B\n",
        "    self.C = C\n",
        "\n",
        "  def __str__(self):\n",
        "    return '{}x + {}y + {} = 0'.format(self.A, self.B, self.C)\n",
        "\n",
        "  def point_on_line(line,point):\n",
        "    if line.A*point.x_cod + line.B*point.y_cod == 0:\n",
        "      return \"lies on line\"\n",
        "    else:\n",
        "      return \"does not lie  on line\"\n",
        "\n",
        "  def shortest_distance(line,point):\n",
        "      return abs(line.A*point.x_cod + line.B*point.y_cod + line.C)/(line.A**2 +line.B**2)**0.5\n",
        "\n",
        "\n",
        "\n",
        "\n"
      ],
      "metadata": {
        "id": "VTYJOh_LL-R1"
      },
      "execution_count": null,
      "outputs": []
    },
    {
      "cell_type": "code",
      "source": [
        "p1 = Point(0,0)\n",
        "p2 = Point(1,1)\n",
        "# <x,y>\n",
        "print(p1)\n",
        "print(p2)\n",
        "p1.euclidean_distance(p2)\n",
        "p1.distance_from_origin()\n"
      ],
      "metadata": {
        "colab": {
          "base_uri": "https://localhost:8080/"
        },
        "id": "RRqnEaSfM0q6",
        "outputId": "eb117f4b-59ad-41d1-c1d0-e3f11c2dcd92"
      },
      "execution_count": null,
      "outputs": [
        {
          "output_type": "stream",
          "name": "stdout",
          "text": [
            "<0,0>\n",
            "<1,1>\n"
          ]
        },
        {
          "output_type": "execute_result",
          "data": {
            "text/plain": [
              "0.0"
            ]
          },
          "metadata": {},
          "execution_count": 12
        }
      ]
    },
    {
      "cell_type": "code",
      "source": [
        "l1 = Line(2,3,4)\n",
        "print(l1)"
      ],
      "metadata": {
        "colab": {
          "base_uri": "https://localhost:8080/"
        },
        "id": "Tp7Pha_pT3je",
        "outputId": "331fa454-9e7c-4313-f3a3-090681e19f26"
      },
      "execution_count": null,
      "outputs": [
        {
          "output_type": "stream",
          "name": "stdout",
          "text": [
            "2x + 3y + 4 = 0\n"
          ]
        }
      ]
    },
    {
      "cell_type": "code",
      "source": [
        "l1 = Line(1,1,2)\n",
        "p1 = Point(-1,-1)\n",
        "print(l1)\n",
        "print(p1)\n",
        "l1.point_on_line(p1)\n",
        "l1.shortest_distance(p1)"
      ],
      "metadata": {
        "colab": {
          "base_uri": "https://localhost:8080/"
        },
        "id": "uxkGXXN2XXIu",
        "outputId": "76b7746a-f338-4bb8-a0a8-180848ab7fbd"
      },
      "execution_count": null,
      "outputs": [
        {
          "output_type": "stream",
          "name": "stdout",
          "text": [
            "1x + 1y + 2 = 0\n",
            "<-1,-1>\n"
          ]
        },
        {
          "output_type": "execute_result",
          "data": {
            "text/plain": [
              "0.0"
            ]
          },
          "metadata": {},
          "execution_count": 6
        }
      ]
    },
    {
      "cell_type": "markdown",
      "source": [
        "***How objects access attributes***"
      ],
      "metadata": {
        "id": "V5S270iZ20lX"
      }
    },
    {
      "cell_type": "code",
      "source": [
        "class Person:\n",
        "\n",
        "  def __init__(self,name_input,country_input):\n",
        "    self.name = name_input\n",
        "    self.country = country_input\n",
        "\n",
        "  def greet(self):       #method\n",
        "    if self.country == \"India\":\n",
        "      print('Namaste', self.name)\n",
        "    else:\n",
        "      print('Hello',self.name)\n"
      ],
      "metadata": {
        "id": "QYoPkw7j2lMJ"
      },
      "execution_count": null,
      "outputs": []
    },
    {
      "cell_type": "code",
      "source": [
        "#how  to access attributes\n",
        "p = Person('abhinav', 'India')"
      ],
      "metadata": {
        "id": "xuG-r5-c39Rr"
      },
      "execution_count": null,
      "outputs": []
    },
    {
      "cell_type": "code",
      "source": [
        "p.country"
      ],
      "metadata": {
        "colab": {
          "base_uri": "https://localhost:8080/",
          "height": 35
        },
        "id": "btL-sDAD4XyV",
        "outputId": "60724fa8-7623-4d09-d910-e4b41c228f76"
      },
      "execution_count": null,
      "outputs": [
        {
          "output_type": "execute_result",
          "data": {
            "text/plain": [
              "'India'"
            ],
            "application/vnd.google.colaboratory.intrinsic+json": {
              "type": "string"
            }
          },
          "metadata": {},
          "execution_count": 14
        }
      ]
    },
    {
      "cell_type": "code",
      "source": [
        "p.name"
      ],
      "metadata": {
        "colab": {
          "base_uri": "https://localhost:8080/",
          "height": 35
        },
        "id": "HYFtcnlm4bVZ",
        "outputId": "fbc1f84a-511c-4026-f447-ebef376e173f"
      },
      "execution_count": null,
      "outputs": [
        {
          "output_type": "execute_result",
          "data": {
            "text/plain": [
              "'abhinav'"
            ],
            "application/vnd.google.colaboratory.intrinsic+json": {
              "type": "string"
            }
          },
          "metadata": {},
          "execution_count": 15
        }
      ]
    },
    {
      "cell_type": "code",
      "source": [
        "p.greet()     # to access methods use brackets"
      ],
      "metadata": {
        "colab": {
          "base_uri": "https://localhost:8080/"
        },
        "id": "AEOVChY_4dlt",
        "outputId": "ccae54b9-b80b-4f84-ba64-df26d8a611fe"
      },
      "execution_count": null,
      "outputs": [
        {
          "output_type": "stream",
          "name": "stdout",
          "text": [
            "Namaste abhinav\n"
          ]
        }
      ]
    },
    {
      "cell_type": "code",
      "source": [
        "p.gender"
      ],
      "metadata": {
        "colab": {
          "base_uri": "https://localhost:8080/",
          "height": 141
        },
        "id": "v3xuVZTN5Hqe",
        "outputId": "3d671264-90a9-46b1-e57d-fe4fe7bab46d"
      },
      "execution_count": null,
      "outputs": [
        {
          "output_type": "error",
          "ename": "AttributeError",
          "evalue": "'Person' object has no attribute 'gender'",
          "traceback": [
            "\u001b[0;31m---------------------------------------------------------------------------\u001b[0m",
            "\u001b[0;31mAttributeError\u001b[0m                            Traceback (most recent call last)",
            "\u001b[0;32m<ipython-input-17-a6f74d1c7954>\u001b[0m in \u001b[0;36m<cell line: 1>\u001b[0;34m()\u001b[0m\n\u001b[0;32m----> 1\u001b[0;31m \u001b[0mp\u001b[0m\u001b[0;34m.\u001b[0m\u001b[0mgender\u001b[0m\u001b[0;34m\u001b[0m\u001b[0;34m\u001b[0m\u001b[0m\n\u001b[0m",
            "\u001b[0;31mAttributeError\u001b[0m: 'Person' object has no attribute 'gender'"
          ]
        }
      ]
    },
    {
      "cell_type": "code",
      "source": [
        "p.gender ='male'   #attributes creation outside the class"
      ],
      "metadata": {
        "id": "IL8HTfeS5Xs6"
      },
      "execution_count": null,
      "outputs": []
    },
    {
      "cell_type": "code",
      "source": [
        "p.gender"
      ],
      "metadata": {
        "colab": {
          "base_uri": "https://localhost:8080/",
          "height": 35
        },
        "id": "5dtA82835flU",
        "outputId": "195a5801-c752-412d-f35d-b4cfb276df17"
      },
      "execution_count": null,
      "outputs": [
        {
          "output_type": "execute_result",
          "data": {
            "text/plain": [
              "'male'"
            ],
            "application/vnd.google.colaboratory.intrinsic+json": {
              "type": "string"
            }
          },
          "metadata": {},
          "execution_count": 19
        }
      ]
    },
    {
      "cell_type": "markdown",
      "source": [
        "**Reference variables**\n",
        "1.   Reference variables hold the objects.\n",
        "2.   we can create objects without refernce varibale as well.\n",
        "3. An object can have multiple refernce variables.\n",
        "4. assigning a new refernce variable to an existing object does not create a new object.  \n",
        "\n"
      ],
      "metadata": {
        "id": "NCWYKpyS5vCG"
      }
    },
    {
      "cell_type": "code",
      "source": [
        "#object without a refernce\n",
        "class Person:\n",
        "\n",
        "  def __init__(self):\n",
        "    self.name = 'Nitish'\n",
        "    self.gender = 'male'\n",
        "p = Person()        # p is just a variable that stores the memory address of the object.\n",
        "q = p\n"
      ],
      "metadata": {
        "id": "H7mcfqvf5n_u"
      },
      "execution_count": null,
      "outputs": []
    },
    {
      "cell_type": "code",
      "source": [
        "# Multiple REF\n",
        "print(id(p))\n",
        "print(id(q))"
      ],
      "metadata": {
        "colab": {
          "base_uri": "https://localhost:8080/"
        },
        "id": "vgcHLdol9U2U",
        "outputId": "99a521a3-107d-4727-e69a-38e10b2c6074"
      },
      "execution_count": null,
      "outputs": [
        {
          "output_type": "stream",
          "name": "stdout",
          "text": [
            "135191361431744\n",
            "135191361431744\n"
          ]
        }
      ]
    },
    {
      "cell_type": "code",
      "source": [
        "print(p.name)\n",
        "print(q.name)\n",
        "q.name = 'abhinav'\n",
        "print(p.name)\n",
        "print(q.name)"
      ],
      "metadata": {
        "colab": {
          "base_uri": "https://localhost:8080/"
        },
        "id": "RV9Lajp_9ipL",
        "outputId": "88d900ed-cd21-4f0b-f744-65e8a3df6652"
      },
      "execution_count": null,
      "outputs": [
        {
          "output_type": "stream",
          "name": "stdout",
          "text": [
            "Nitish\n",
            "Nitish\n",
            "abhinav\n",
            "abhinav\n"
          ]
        }
      ]
    },
    {
      "cell_type": "code",
      "source": [
        "# Pass By Refernce\n",
        "\n",
        "class Person:\n",
        "  def __init__(self, name , gender):\n",
        "    self.name = name\n",
        "    self.gender = gender\n",
        "# outside the class -> function\n",
        "def greet(person):\n",
        "  print('hi my name is',person.name , 'and I am a', person.gender)\n",
        "  p1 = Person('ankit', 'male')\n",
        "  return p1\n",
        "p = person('nitish', 'male')\n",
        "x = greet(p)\n",
        "print(x.name)\n",
        "print(x.gender)\n",
        "\n"
      ],
      "metadata": {
        "id": "Elzq0avM95US",
        "colab": {
          "base_uri": "https://localhost:8080/"
        },
        "outputId": "fd9dcb72-4c11-4104-9f58-96c2ca860956"
      },
      "execution_count": null,
      "outputs": [
        {
          "output_type": "stream",
          "name": "stdout",
          "text": [
            "hi my name is nitish and I am a male\n",
            "ankit\n",
            "male\n"
          ]
        }
      ]
    },
    {
      "cell_type": "code",
      "source": [
        "# Pass By Refernce\n",
        "\n",
        "class Person:\n",
        "  def __init__(self, name , gender):\n",
        "    self.name = name\n",
        "    self.gender = gender\n",
        "# outside the class -> function\n",
        "def greet(person):\n",
        "  person.name = 'ankit'\n",
        "  print(id(person))\n",
        "  print(person.name)\n",
        "\n",
        "p = person('nitish', 'male')\n",
        "print(id(p))\n",
        "x = greet(p)\n",
        "print(p.name)\n"
      ],
      "metadata": {
        "colab": {
          "base_uri": "https://localhost:8080/"
        },
        "id": "mYNAZ3Fg5053",
        "outputId": "142da949-6ddb-46cd-a0e2-1e16f2efc490"
      },
      "execution_count": null,
      "outputs": [
        {
          "output_type": "stream",
          "name": "stdout",
          "text": [
            "139790801870688\n",
            "139790801870688\n",
            "ankit\n",
            "ankit\n"
          ]
        }
      ]
    },
    {
      "cell_type": "code",
      "source": [
        "# Pass By Refernce\n",
        "# all objects in python are mutable because after the changes still address reamin the same.\n",
        "\n",
        "class Person:\n",
        "  def __init__(self, name , gender):\n",
        "    self.name = name\n",
        "    self.gender = gender\n",
        "# outside the class -> function\n",
        "def greet(person):\n",
        "  person.name = 'ankit'\n",
        "  return person\n",
        "\n",
        "p = Person('nitish', 'male')\n",
        "print(id(p))\n",
        "p1 = greet(p)\n",
        "print(id(p1))"
      ],
      "metadata": {
        "colab": {
          "base_uri": "https://localhost:8080/"
        },
        "id": "ksJve3BE_CAe",
        "outputId": "ccb99ddd-ded7-4242-ce5a-f76fda8595d5"
      },
      "execution_count": null,
      "outputs": [
        {
          "output_type": "stream",
          "name": "stdout",
          "text": [
            "139791153020112\n",
            "139791153020112\n"
          ]
        }
      ]
    },
    {
      "cell_type": "markdown",
      "source": [
        "encapsulation"
      ],
      "metadata": {
        "id": "b9nTCdC1ANhZ"
      }
    },
    {
      "cell_type": "code",
      "source": [
        "# instance variables -> whose value depend on the object.\n",
        "class Person:\n",
        "\n",
        "  def __init__(self, name_input,country_input):\n",
        "    self.name = name_input\n",
        "    self.country = country_input\n",
        "\n",
        "p1 = Person('abhinav', 'inida')\n",
        "p2 = Person('kashish', 'india')\n",
        "\n"
      ],
      "metadata": {
        "id": "kNAJnFtKACI0"
      },
      "execution_count": null,
      "outputs": []
    },
    {
      "cell_type": "code",
      "source": [
        "p1.name"
      ],
      "metadata": {
        "colab": {
          "base_uri": "https://localhost:8080/",
          "height": 35
        },
        "id": "3v_5wiqyBLsa",
        "outputId": "f55434f6-ed94-4407-da89-2d11481c7f78"
      },
      "execution_count": null,
      "outputs": [
        {
          "output_type": "execute_result",
          "data": {
            "text/plain": [
              "'abhinav'"
            ],
            "application/vnd.google.colaboratory.intrinsic+json": {
              "type": "string"
            }
          },
          "metadata": {},
          "execution_count": 20
        }
      ]
    },
    {
      "cell_type": "code",
      "source": [
        "p2.name"
      ],
      "metadata": {
        "colab": {
          "base_uri": "https://localhost:8080/",
          "height": 35
        },
        "id": "sLSrUGXrBOdU",
        "outputId": "cae5186d-ca3b-458d-8a38-b818c57ff67c"
      },
      "execution_count": null,
      "outputs": [
        {
          "output_type": "execute_result",
          "data": {
            "text/plain": [
              "'kashish'"
            ],
            "application/vnd.google.colaboratory.intrinsic+json": {
              "type": "string"
            }
          },
          "metadata": {},
          "execution_count": 22
        }
      ]
    },
    {
      "cell_type": "code",
      "source": [
        "class Atm:    #user defined classs\n",
        "  #constructor(speecial function)->superpwer no need to call the function it get call explicitely\n",
        "  def __init__(self):\n",
        "    print(id(self))\n",
        "    self.pin =''  # put __ before the name of variable to make it private.\n",
        "    self.__balance =0            #__balance -> _Atm__balance\n",
        "    # self.menu()\n",
        "\n",
        "  def get_balance(self):      #getter functions are used to retrieve the values of private attributes.\n",
        "      return self.__balance\n",
        "\n",
        "  def set_balance(self,new_value):   #modify and update the value of an object.\n",
        "     if type(new_value) == int:\n",
        "       self.__balance = new_value\n",
        "     else:\n",
        "      print('invalid')\n",
        "\n",
        "  def __menu(self):\n",
        "\n",
        "     user_input = input(\"\"\"\n",
        "    hi how can i help you?\n",
        "    1. press 1 to create pin\n",
        "    2. press 2 to change pin\n",
        "    3. press 3 to check balance\n",
        "    4. press 4 to  withdraw\n",
        "    5. press 5 to exit\n",
        "    \"\"\")\n",
        "     if user_input == '1':\n",
        "      #create pin\n",
        "      self.create_pin()\n",
        "     elif user_input == '2':\n",
        "      #change pin\n",
        "      self.change_pin()\n",
        "     elif user_input == '3':\n",
        "      #check balance\n",
        "      self.check_balance()\n",
        "     elif user_input == '4':\n",
        "      # withdraw\n",
        "      self.withdraw()\n",
        "     else:\n",
        "       exit()\n",
        "  def create_pin(self):\n",
        "    user_pin = input('enter your pin')\n",
        "    self.pin = user_pin\n",
        "\n",
        "    user_balance = int(input('enter your balance '))\n",
        "    self.__balance = user_balance\n",
        "\n",
        "    print('pin created succesfully ')\n",
        "    self.__menu()\n",
        "\n",
        "  def change_pin(self):\n",
        "    old_pin = input('enter your old pin')\n",
        "    if old_pin == self.pin:\n",
        "      #let him change the pin\n",
        "      new_pin = input('enter new pin')\n",
        "      print('pin change succesfully')\n",
        "      self.__menu()\n",
        "    else:\n",
        "      print('invalid')\n",
        "      self.__menu()\n",
        "\n",
        "    def check_balance(self):\n",
        "      user_pin = input('enter your pin')\n",
        "      if user_pin == self.pin:\n",
        "        print('your balance is', self.__balance)\n",
        "      else:\n",
        "        print('wrong pin')\n",
        "\n",
        "    def withdraw(self):\n",
        "      user_pin = input('enter the pin')\n",
        "      if user_pin == self.pin:\n",
        "        #allow to withdraw\n",
        "        amount = int(input('enter the amount'))\n",
        "        if amount<=self.__balance:\n",
        "          self.__balance = self.__balance - amount\n",
        "          print('withdrawl  succesfull')\n",
        "        else:\n",
        "            print('insuficient balance')\n",
        "      else:\n",
        "          print('invalid')\n",
        "      self.__menu()"
      ],
      "metadata": {
        "id": "qD95u8P8Bc3q"
      },
      "execution_count": null,
      "outputs": []
    },
    {
      "cell_type": "code",
      "source": [
        "obj= Atm()"
      ],
      "metadata": {
        "colab": {
          "base_uri": "https://localhost:8080/"
        },
        "id": "gchjd1HEDai5",
        "outputId": "fbc487ee-c3b5-43be-f45a-1360087fed99"
      },
      "execution_count": null,
      "outputs": [
        {
          "output_type": "stream",
          "name": "stdout",
          "text": [
            "137612835827248\n"
          ]
        }
      ]
    },
    {
      "cell_type": "code",
      "source": [
        "obj.get_balance()"
      ],
      "metadata": {
        "colab": {
          "base_uri": "https://localhost:8080/"
        },
        "id": "omiL47tFzTaM",
        "outputId": "37388ed9-a6e1-4358-ac44-e7d9020ab057"
      },
      "execution_count": null,
      "outputs": [
        {
          "output_type": "execute_result",
          "data": {
            "text/plain": [
              "0"
            ]
          },
          "metadata": {},
          "execution_count": 17
        }
      ]
    },
    {
      "cell_type": "code",
      "source": [
        "obj.set_balance('hehh')"
      ],
      "metadata": {
        "colab": {
          "base_uri": "https://localhost:8080/"
        },
        "id": "vgnn6Z6g0VkV",
        "outputId": "087b0397-b823-4737-c60d-3d5a75bcfe2d"
      },
      "execution_count": null,
      "outputs": [
        {
          "output_type": "stream",
          "name": "stdout",
          "text": [
            "invalid\n"
          ]
        }
      ]
    },
    {
      "cell_type": "code",
      "source": [
        "obj.set_balance(100)"
      ],
      "metadata": {
        "id": "q2yvOwpJzpjO"
      },
      "execution_count": null,
      "outputs": []
    },
    {
      "cell_type": "code",
      "source": [
        "obj.create_pin()\n",
        "obj.__balance = 'hehheh'"
      ],
      "metadata": {
        "id": "r07CH2MnDfJ8",
        "colab": {
          "base_uri": "https://localhost:8080/",
          "height": 356
        },
        "outputId": "20567dd6-fbff-433e-9a06-13ae9b76174d"
      },
      "execution_count": null,
      "outputs": [
        {
          "output_type": "stream",
          "name": "stdout",
          "text": [
            "enter your pin123\n",
            "enter your balance 20000\n",
            "pin created succesfully \n"
          ]
        },
        {
          "output_type": "error",
          "ename": "KeyboardInterrupt",
          "evalue": "Interrupted by user",
          "traceback": [
            "\u001b[0;31m---------------------------------------------------------------------------\u001b[0m",
            "\u001b[0;31mKeyboardInterrupt\u001b[0m                         Traceback (most recent call last)",
            "\u001b[0;32m<ipython-input-35-75bba67f5fca>\u001b[0m in \u001b[0;36m<cell line: 1>\u001b[0;34m()\u001b[0m\n\u001b[0;32m----> 1\u001b[0;31m \u001b[0mobj\u001b[0m\u001b[0;34m.\u001b[0m\u001b[0mcreate_pin\u001b[0m\u001b[0;34m(\u001b[0m\u001b[0;34m)\u001b[0m\u001b[0;34m\u001b[0m\u001b[0;34m\u001b[0m\u001b[0m\n\u001b[0m\u001b[1;32m      2\u001b[0m \u001b[0mobj\u001b[0m\u001b[0;34m.\u001b[0m\u001b[0m__balance\u001b[0m \u001b[0;34m=\u001b[0m \u001b[0;34m'hehheh'\u001b[0m\u001b[0;34m\u001b[0m\u001b[0;34m\u001b[0m\u001b[0m\n",
            "\u001b[0;32m<ipython-input-33-8bf9e5aa47b9>\u001b[0m in \u001b[0;36mcreate_pin\u001b[0;34m(self)\u001b[0m\n\u001b[1;32m     37\u001b[0m \u001b[0;34m\u001b[0m\u001b[0m\n\u001b[1;32m     38\u001b[0m     \u001b[0mprint\u001b[0m\u001b[0;34m(\u001b[0m\u001b[0;34m'pin created succesfully '\u001b[0m\u001b[0;34m)\u001b[0m\u001b[0;34m\u001b[0m\u001b[0;34m\u001b[0m\u001b[0m\n\u001b[0;32m---> 39\u001b[0;31m     \u001b[0mself\u001b[0m\u001b[0;34m.\u001b[0m\u001b[0m__menu\u001b[0m\u001b[0;34m(\u001b[0m\u001b[0;34m)\u001b[0m\u001b[0;34m\u001b[0m\u001b[0;34m\u001b[0m\u001b[0m\n\u001b[0m\u001b[1;32m     40\u001b[0m \u001b[0;34m\u001b[0m\u001b[0m\n\u001b[1;32m     41\u001b[0m   \u001b[0;32mdef\u001b[0m \u001b[0mchange_pin\u001b[0m\u001b[0;34m(\u001b[0m\u001b[0mself\u001b[0m\u001b[0;34m)\u001b[0m\u001b[0;34m:\u001b[0m\u001b[0;34m\u001b[0m\u001b[0;34m\u001b[0m\u001b[0m\n",
            "\u001b[0;32m<ipython-input-33-8bf9e5aa47b9>\u001b[0m in \u001b[0;36m__menu\u001b[0;34m(self)\u001b[0m\n\u001b[1;32m      7\u001b[0m     \u001b[0;31m# self.menu()\u001b[0m\u001b[0;34m\u001b[0m\u001b[0;34m\u001b[0m\u001b[0m\n\u001b[1;32m      8\u001b[0m   \u001b[0;32mdef\u001b[0m \u001b[0m__menu\u001b[0m\u001b[0;34m(\u001b[0m\u001b[0mself\u001b[0m\u001b[0;34m)\u001b[0m\u001b[0;34m:\u001b[0m\u001b[0;34m\u001b[0m\u001b[0;34m\u001b[0m\u001b[0m\n\u001b[0;32m----> 9\u001b[0;31m      user_input = input(\"\"\"\n\u001b[0m\u001b[1;32m     10\u001b[0m     \u001b[0mhi\u001b[0m \u001b[0mhow\u001b[0m \u001b[0mcan\u001b[0m \u001b[0mi\u001b[0m \u001b[0mhelp\u001b[0m \u001b[0myou\u001b[0m\u001b[0;31m?\u001b[0m\u001b[0;34m\u001b[0m\u001b[0;34m\u001b[0m\u001b[0m\n\u001b[1;32m     11\u001b[0m     \u001b[0;36m1.\u001b[0m \u001b[0mpress\u001b[0m \u001b[0;36m1\u001b[0m \u001b[0mto\u001b[0m \u001b[0mcreate\u001b[0m \u001b[0mpin\u001b[0m\u001b[0;34m\u001b[0m\u001b[0;34m\u001b[0m\u001b[0m\n",
            "\u001b[0;32m/usr/local/lib/python3.10/dist-packages/ipykernel/kernelbase.py\u001b[0m in \u001b[0;36mraw_input\u001b[0;34m(self, prompt)\u001b[0m\n\u001b[1;32m    849\u001b[0m                 \u001b[0;34m\"raw_input was called, but this frontend does not support input requests.\"\u001b[0m\u001b[0;34m\u001b[0m\u001b[0;34m\u001b[0m\u001b[0m\n\u001b[1;32m    850\u001b[0m             )\n\u001b[0;32m--> 851\u001b[0;31m         return self._input_request(str(prompt),\n\u001b[0m\u001b[1;32m    852\u001b[0m             \u001b[0mself\u001b[0m\u001b[0;34m.\u001b[0m\u001b[0m_parent_ident\u001b[0m\u001b[0;34m,\u001b[0m\u001b[0;34m\u001b[0m\u001b[0;34m\u001b[0m\u001b[0m\n\u001b[1;32m    853\u001b[0m             \u001b[0mself\u001b[0m\u001b[0;34m.\u001b[0m\u001b[0m_parent_header\u001b[0m\u001b[0;34m,\u001b[0m\u001b[0;34m\u001b[0m\u001b[0;34m\u001b[0m\u001b[0m\n",
            "\u001b[0;32m/usr/local/lib/python3.10/dist-packages/ipykernel/kernelbase.py\u001b[0m in \u001b[0;36m_input_request\u001b[0;34m(self, prompt, ident, parent, password)\u001b[0m\n\u001b[1;32m    893\u001b[0m             \u001b[0;32mexcept\u001b[0m \u001b[0mKeyboardInterrupt\u001b[0m\u001b[0;34m:\u001b[0m\u001b[0;34m\u001b[0m\u001b[0;34m\u001b[0m\u001b[0m\n\u001b[1;32m    894\u001b[0m                 \u001b[0;31m# re-raise KeyboardInterrupt, to truncate traceback\u001b[0m\u001b[0;34m\u001b[0m\u001b[0;34m\u001b[0m\u001b[0m\n\u001b[0;32m--> 895\u001b[0;31m                 \u001b[0;32mraise\u001b[0m \u001b[0mKeyboardInterrupt\u001b[0m\u001b[0;34m(\u001b[0m\u001b[0;34m\"Interrupted by user\"\u001b[0m\u001b[0;34m)\u001b[0m \u001b[0;32mfrom\u001b[0m \u001b[0;32mNone\u001b[0m\u001b[0;34m\u001b[0m\u001b[0;34m\u001b[0m\u001b[0m\n\u001b[0m\u001b[1;32m    896\u001b[0m             \u001b[0;32mexcept\u001b[0m \u001b[0mException\u001b[0m \u001b[0;32mas\u001b[0m \u001b[0me\u001b[0m\u001b[0;34m:\u001b[0m\u001b[0;34m\u001b[0m\u001b[0;34m\u001b[0m\u001b[0m\n\u001b[1;32m    897\u001b[0m                 \u001b[0mself\u001b[0m\u001b[0;34m.\u001b[0m\u001b[0mlog\u001b[0m\u001b[0;34m.\u001b[0m\u001b[0mwarning\u001b[0m\u001b[0;34m(\u001b[0m\u001b[0;34m\"Invalid Message:\"\u001b[0m\u001b[0;34m,\u001b[0m \u001b[0mexc_info\u001b[0m\u001b[0;34m=\u001b[0m\u001b[0;32mTrue\u001b[0m\u001b[0;34m)\u001b[0m\u001b[0;34m\u001b[0m\u001b[0;34m\u001b[0m\u001b[0m\n",
            "\u001b[0;31mKeyboardInterrupt\u001b[0m: Interrupted by user"
          ]
        }
      ]
    },
    {
      "cell_type": "code",
      "source": [
        "obj.create_pin()\n",
        "obj._Atm__balance = 'hehhe'\n"
      ],
      "metadata": {
        "colab": {
          "base_uri": "https://localhost:8080/",
          "height": 356
        },
        "id": "LuovEEQFFGvG",
        "outputId": "b0d782ce-ac92-4629-a55a-d97969b9e5ba"
      },
      "execution_count": null,
      "outputs": [
        {
          "output_type": "stream",
          "name": "stdout",
          "text": [
            "enter your pin123\n",
            "enter your balance 2000\n",
            "pin created succesfully \n"
          ]
        },
        {
          "output_type": "error",
          "ename": "KeyboardInterrupt",
          "evalue": "Interrupted by user",
          "traceback": [
            "\u001b[0;31m---------------------------------------------------------------------------\u001b[0m",
            "\u001b[0;31mKeyboardInterrupt\u001b[0m                         Traceback (most recent call last)",
            "\u001b[0;32m<ipython-input-36-f05d2010825b>\u001b[0m in \u001b[0;36m<cell line: 1>\u001b[0;34m()\u001b[0m\n\u001b[0;32m----> 1\u001b[0;31m \u001b[0mobj\u001b[0m\u001b[0;34m.\u001b[0m\u001b[0mcreate_pin\u001b[0m\u001b[0;34m(\u001b[0m\u001b[0;34m)\u001b[0m\u001b[0;34m\u001b[0m\u001b[0;34m\u001b[0m\u001b[0m\n\u001b[0m\u001b[1;32m      2\u001b[0m \u001b[0mobj\u001b[0m\u001b[0;34m.\u001b[0m\u001b[0m_Atm__balance\u001b[0m \u001b[0;34m=\u001b[0m \u001b[0;34m'hehhe'\u001b[0m\u001b[0;34m\u001b[0m\u001b[0;34m\u001b[0m\u001b[0m\n",
            "\u001b[0;32m<ipython-input-33-8bf9e5aa47b9>\u001b[0m in \u001b[0;36mcreate_pin\u001b[0;34m(self)\u001b[0m\n\u001b[1;32m     37\u001b[0m \u001b[0;34m\u001b[0m\u001b[0m\n\u001b[1;32m     38\u001b[0m     \u001b[0mprint\u001b[0m\u001b[0;34m(\u001b[0m\u001b[0;34m'pin created succesfully '\u001b[0m\u001b[0;34m)\u001b[0m\u001b[0;34m\u001b[0m\u001b[0;34m\u001b[0m\u001b[0m\n\u001b[0;32m---> 39\u001b[0;31m     \u001b[0mself\u001b[0m\u001b[0;34m.\u001b[0m\u001b[0m__menu\u001b[0m\u001b[0;34m(\u001b[0m\u001b[0;34m)\u001b[0m\u001b[0;34m\u001b[0m\u001b[0;34m\u001b[0m\u001b[0m\n\u001b[0m\u001b[1;32m     40\u001b[0m \u001b[0;34m\u001b[0m\u001b[0m\n\u001b[1;32m     41\u001b[0m   \u001b[0;32mdef\u001b[0m \u001b[0mchange_pin\u001b[0m\u001b[0;34m(\u001b[0m\u001b[0mself\u001b[0m\u001b[0;34m)\u001b[0m\u001b[0;34m:\u001b[0m\u001b[0;34m\u001b[0m\u001b[0;34m\u001b[0m\u001b[0m\n",
            "\u001b[0;32m<ipython-input-33-8bf9e5aa47b9>\u001b[0m in \u001b[0;36m__menu\u001b[0;34m(self)\u001b[0m\n\u001b[1;32m      7\u001b[0m     \u001b[0;31m# self.menu()\u001b[0m\u001b[0;34m\u001b[0m\u001b[0;34m\u001b[0m\u001b[0m\n\u001b[1;32m      8\u001b[0m   \u001b[0;32mdef\u001b[0m \u001b[0m__menu\u001b[0m\u001b[0;34m(\u001b[0m\u001b[0mself\u001b[0m\u001b[0;34m)\u001b[0m\u001b[0;34m:\u001b[0m\u001b[0;34m\u001b[0m\u001b[0;34m\u001b[0m\u001b[0m\n\u001b[0;32m----> 9\u001b[0;31m      user_input = input(\"\"\"\n\u001b[0m\u001b[1;32m     10\u001b[0m     \u001b[0mhi\u001b[0m \u001b[0mhow\u001b[0m \u001b[0mcan\u001b[0m \u001b[0mi\u001b[0m \u001b[0mhelp\u001b[0m \u001b[0myou\u001b[0m\u001b[0;31m?\u001b[0m\u001b[0;34m\u001b[0m\u001b[0;34m\u001b[0m\u001b[0m\n\u001b[1;32m     11\u001b[0m     \u001b[0;36m1.\u001b[0m \u001b[0mpress\u001b[0m \u001b[0;36m1\u001b[0m \u001b[0mto\u001b[0m \u001b[0mcreate\u001b[0m \u001b[0mpin\u001b[0m\u001b[0;34m\u001b[0m\u001b[0;34m\u001b[0m\u001b[0m\n",
            "\u001b[0;32m/usr/local/lib/python3.10/dist-packages/ipykernel/kernelbase.py\u001b[0m in \u001b[0;36mraw_input\u001b[0;34m(self, prompt)\u001b[0m\n\u001b[1;32m    849\u001b[0m                 \u001b[0;34m\"raw_input was called, but this frontend does not support input requests.\"\u001b[0m\u001b[0;34m\u001b[0m\u001b[0;34m\u001b[0m\u001b[0m\n\u001b[1;32m    850\u001b[0m             )\n\u001b[0;32m--> 851\u001b[0;31m         return self._input_request(str(prompt),\n\u001b[0m\u001b[1;32m    852\u001b[0m             \u001b[0mself\u001b[0m\u001b[0;34m.\u001b[0m\u001b[0m_parent_ident\u001b[0m\u001b[0;34m,\u001b[0m\u001b[0;34m\u001b[0m\u001b[0;34m\u001b[0m\u001b[0m\n\u001b[1;32m    853\u001b[0m             \u001b[0mself\u001b[0m\u001b[0;34m.\u001b[0m\u001b[0m_parent_header\u001b[0m\u001b[0;34m,\u001b[0m\u001b[0;34m\u001b[0m\u001b[0;34m\u001b[0m\u001b[0m\n",
            "\u001b[0;32m/usr/local/lib/python3.10/dist-packages/ipykernel/kernelbase.py\u001b[0m in \u001b[0;36m_input_request\u001b[0;34m(self, prompt, ident, parent, password)\u001b[0m\n\u001b[1;32m    893\u001b[0m             \u001b[0;32mexcept\u001b[0m \u001b[0mKeyboardInterrupt\u001b[0m\u001b[0;34m:\u001b[0m\u001b[0;34m\u001b[0m\u001b[0;34m\u001b[0m\u001b[0m\n\u001b[1;32m    894\u001b[0m                 \u001b[0;31m# re-raise KeyboardInterrupt, to truncate traceback\u001b[0m\u001b[0;34m\u001b[0m\u001b[0;34m\u001b[0m\u001b[0m\n\u001b[0;32m--> 895\u001b[0;31m                 \u001b[0;32mraise\u001b[0m \u001b[0mKeyboardInterrupt\u001b[0m\u001b[0;34m(\u001b[0m\u001b[0;34m\"Interrupted by user\"\u001b[0m\u001b[0;34m)\u001b[0m \u001b[0;32mfrom\u001b[0m \u001b[0;32mNone\u001b[0m\u001b[0;34m\u001b[0m\u001b[0;34m\u001b[0m\u001b[0m\n\u001b[0m\u001b[1;32m    896\u001b[0m             \u001b[0;32mexcept\u001b[0m \u001b[0mException\u001b[0m \u001b[0;32mas\u001b[0m \u001b[0me\u001b[0m\u001b[0;34m:\u001b[0m\u001b[0;34m\u001b[0m\u001b[0;34m\u001b[0m\u001b[0m\n\u001b[1;32m    897\u001b[0m                 \u001b[0mself\u001b[0m\u001b[0;34m.\u001b[0m\u001b[0mlog\u001b[0m\u001b[0;34m.\u001b[0m\u001b[0mwarning\u001b[0m\u001b[0;34m(\u001b[0m\u001b[0;34m\"Invalid Message:\"\u001b[0m\u001b[0;34m,\u001b[0m \u001b[0mexc_info\u001b[0m\u001b[0;34m=\u001b[0m\u001b[0;32mTrue\u001b[0m\u001b[0;34m)\u001b[0m\u001b[0;34m\u001b[0m\u001b[0;34m\u001b[0m\u001b[0m\n",
            "\u001b[0;31mKeyboardInterrupt\u001b[0m: Interrupted by user"
          ]
        }
      ]
    },
    {
      "cell_type": "code",
      "source": [
        "obj.withdraw()    #there is nothing truely private in python."
      ],
      "metadata": {
        "colab": {
          "base_uri": "https://localhost:8080/",
          "height": 141
        },
        "id": "RkFY0OSdGYF9",
        "outputId": "674465b4-69d2-4016-8649-cdf6454f5a0b"
      },
      "execution_count": null,
      "outputs": [
        {
          "output_type": "error",
          "ename": "AttributeError",
          "evalue": "'Atm' object has no attribute 'withdraw'",
          "traceback": [
            "\u001b[0;31m---------------------------------------------------------------------------\u001b[0m",
            "\u001b[0;31mAttributeError\u001b[0m                            Traceback (most recent call last)",
            "\u001b[0;32m<ipython-input-37-826ea677aa70>\u001b[0m in \u001b[0;36m<cell line: 1>\u001b[0;34m()\u001b[0m\n\u001b[0;32m----> 1\u001b[0;31m \u001b[0mobj\u001b[0m\u001b[0;34m.\u001b[0m\u001b[0mwithdraw\u001b[0m\u001b[0;34m(\u001b[0m\u001b[0;34m)\u001b[0m\u001b[0;34m\u001b[0m\u001b[0;34m\u001b[0m\u001b[0m\n\u001b[0m",
            "\u001b[0;31mAttributeError\u001b[0m: 'Atm' object has no attribute 'withdraw'"
          ]
        }
      ]
    },
    {
      "cell_type": "markdown",
      "source": [
        "# Collection of **objects**"
      ],
      "metadata": {
        "id": "HAvb1v3x2FlA"
      }
    },
    {
      "cell_type": "code",
      "source": [
        "#list of objects\n",
        "class person:\n",
        "  def __init__(self,name , gender):\n",
        "    self.name = name\n",
        "    self.gender = gender\n",
        "\n",
        "p1 = person('nitish','male')\n",
        "p2 = person('ankit','male')\n",
        "p3 = person('ankita', 'female')\n",
        "L =[p1,p2,p3]\n",
        "print(L)    #address\n",
        "for i in L:\n",
        "  print(i)\n",
        "for i in L:\n",
        "  print(i.name, i.gender)"
      ],
      "metadata": {
        "colab": {
          "base_uri": "https://localhost:8080/"
        },
        "id": "CVJJ3PRLxKHn",
        "outputId": "0d9921f1-70f4-4c81-e03c-680189e8acff"
      },
      "execution_count": null,
      "outputs": [
        {
          "output_type": "stream",
          "name": "stdout",
          "text": [
            "[<__main__.person object at 0x7d284a0771f0>, <__main__.person object at 0x7d284a077b80>, <__main__.person object at 0x7d284a077220>]\n",
            "<__main__.person object at 0x7d284a0771f0>\n",
            "<__main__.person object at 0x7d284a077b80>\n",
            "<__main__.person object at 0x7d284a077220>\n",
            "nitish male\n",
            "ankit male\n",
            "ankita female\n"
          ]
        }
      ]
    },
    {
      "cell_type": "code",
      "source": [
        "#dict of objects\n",
        "class person:\n",
        "  def __init__(self,name , gender):\n",
        "    self.name = name\n",
        "    self.gender = gender\n",
        "\n",
        "p1 = person('nitish','male')\n",
        "p2 = person('ankit','male')\n",
        "p3 = person('ankita', 'female')\n",
        "\n",
        "d = {'p1':p1, 'p2':p2, 'p3':p3}\n",
        "for i in d:\n",
        "  print(i)\n",
        "for i in d:\n",
        "  print(d[i])  #objects\n",
        "for i in d:\n",
        "  print(d[i].name)\n",
        "for i in d:\n",
        "  print(d[i].gender)"
      ],
      "metadata": {
        "colab": {
          "base_uri": "https://localhost:8080/"
        },
        "id": "br3yP0qz3vYF",
        "outputId": "6cb67fbb-7450-4b6d-867c-c17e22599b90"
      },
      "execution_count": null,
      "outputs": [
        {
          "output_type": "stream",
          "name": "stdout",
          "text": [
            "p1\n",
            "p2\n",
            "p3\n",
            "<__main__.person object at 0x7d284a0aad10>\n",
            "<__main__.person object at 0x7d284a0aa020>\n",
            "<__main__.person object at 0x7d284a0a9450>\n",
            "nitish\n",
            "ankit\n",
            "ankita\n",
            "male\n",
            "male\n",
            "female\n"
          ]
        }
      ]
    },
    {
      "cell_type": "markdown",
      "source": [
        "# static variable(vs instance variable)bold text"
      ],
      "metadata": {
        "id": "11HxDFWl5yIs"
      }
    },
    {
      "cell_type": "code",
      "source": [
        "class Atm:    #user defined classs\n",
        "  #constructor(speecial function)->superpwer no need to call the function it get call explicitely\n",
        "  def __init__(self):\n",
        "    print(id(self))\n",
        "    self.pin =''  # put __ before the name of variable to make it private.\n",
        "    self.__balance =0            #__balance -> _Atm__balance\n",
        "    self.cid = 0\n",
        "    self.cid+=1\n",
        "\n",
        "    # self.menu()\n",
        "\n",
        "  def get_balance(self):      #getter functions are used to retrieve the values of private attributes.\n",
        "      return self.__balance\n",
        "\n",
        "  def set_balance(self,new_value):   #modify and update the value of an object.\n",
        "     if type(new_value) == int:\n",
        "       self.__balance = new_value\n",
        "     else:\n",
        "      print('invalid')\n",
        "\n",
        "  def __menu(self):\n",
        "\n",
        "     user_input = input(\"\"\"\n",
        "    hi how can i help you?\n",
        "    1. press 1 to create pin\n",
        "    2. press 2 to change pin\n",
        "    3. press 3 to check balance\n",
        "    4. press 4 to  withdraw\n",
        "    5. press 5 to exit\n",
        "    \"\"\")\n",
        "     if user_input == '1':\n",
        "      #create pin\n",
        "      self.create_pin()\n",
        "     elif user_input == '2':\n",
        "      #change pin\n",
        "      self.change_pin()\n",
        "     elif user_input == '3':\n",
        "      #check balance\n",
        "      self.check_balance()\n",
        "     elif user_input == '4':\n",
        "      # withdraw\n",
        "      self.withdraw()\n",
        "     else:\n",
        "       exit()\n",
        "  def create_pin(self):\n",
        "    user_pin = input('enter your pin')\n",
        "    self.pin = user_pin\n",
        "\n",
        "    user_balance = int(input('enter your balance '))\n",
        "    self.__balance = user_balance\n",
        "\n",
        "    print('pin created succesfully ')\n",
        "    self.__menu()\n",
        "\n",
        "  def change_pin(self):\n",
        "    old_pin = input('enter your old pin')\n",
        "    if old_pin == self.pin:\n",
        "      #let him change the pin\n",
        "      new_pin = input('enter new pin')\n",
        "      print('pin change succesfully')\n",
        "      self.__menu()\n",
        "    else:\n",
        "      print('invalid')\n",
        "      self.__menu()\n",
        "\n",
        "    def check_balance(self):\n",
        "      user_pin = input('enter your pin')\n",
        "      if user_pin == self.pin:\n",
        "        print('your balance is', self.__balance)\n",
        "      else:\n",
        "        print('wrong pin')\n",
        "\n",
        "    def withdraw(self):\n",
        "      user_pin = input('enter the pin')\n",
        "      if user_pin == self.pin:\n",
        "        #allow to withdraw\n",
        "        amount = int(input('enter the amount'))\n",
        "        if amount<=self.__balance:\n",
        "          self.__balance = self.__balance - amount\n",
        "          print('withdrawl  succesfull')\n",
        "        else:\n",
        "            print('insuficient balance')\n",
        "      else:\n",
        "          print('invalid')\n",
        "      self.__menu()"
      ],
      "metadata": {
        "id": "uTNoDVG05wsQ"
      },
      "execution_count": null,
      "outputs": []
    },
    {
      "cell_type": "code",
      "source": [
        "c1 = Atm()"
      ],
      "metadata": {
        "colab": {
          "base_uri": "https://localhost:8080/"
        },
        "id": "vICJHqM9t_zW",
        "outputId": "e498eccb-2b4b-4dfa-b4c9-d7e37e1f5559"
      },
      "execution_count": null,
      "outputs": [
        {
          "output_type": "stream",
          "name": "stdout",
          "text": [
            "133827840103168\n"
          ]
        }
      ]
    },
    {
      "cell_type": "code",
      "source": [
        "c2 = Atm()"
      ],
      "metadata": {
        "colab": {
          "base_uri": "https://localhost:8080/"
        },
        "id": "hwj9O3aOuGxL",
        "outputId": "b156cb5f-bb78-4b41-9d1e-7ce6938a02e0"
      },
      "execution_count": null,
      "outputs": [
        {
          "output_type": "stream",
          "name": "stdout",
          "text": [
            "133827826618752\n"
          ]
        }
      ]
    },
    {
      "cell_type": "code",
      "source": [
        "c3 = Atm()"
      ],
      "metadata": {
        "colab": {
          "base_uri": "https://localhost:8080/"
        },
        "id": "ICgNMeuHuJm2",
        "outputId": "82c4251d-e7d8-45aa-b5b4-3f441a9bf178"
      },
      "execution_count": null,
      "outputs": [
        {
          "output_type": "stream",
          "name": "stdout",
          "text": [
            "133827840098512\n"
          ]
        }
      ]
    },
    {
      "cell_type": "code",
      "source": [
        "c1.cid"
      ],
      "metadata": {
        "colab": {
          "base_uri": "https://localhost:8080/"
        },
        "id": "Ac7nb_JGuRIt",
        "outputId": "ee069052-b6c1-4cd6-fb27-ed62eae1563b"
      },
      "execution_count": null,
      "outputs": [
        {
          "output_type": "execute_result",
          "data": {
            "text/plain": [
              "1"
            ]
          },
          "metadata": {},
          "execution_count": 5
        }
      ]
    },
    {
      "cell_type": "code",
      "source": [
        "c2.cid"
      ],
      "metadata": {
        "colab": {
          "base_uri": "https://localhost:8080/"
        },
        "id": "BtXcGHeSuV4d",
        "outputId": "322419ee-0f8b-41e8-8865-35ca56cf46cc"
      },
      "execution_count": null,
      "outputs": [
        {
          "output_type": "execute_result",
          "data": {
            "text/plain": [
              "1"
            ]
          },
          "metadata": {},
          "execution_count": 6
        }
      ]
    },
    {
      "cell_type": "code",
      "source": [
        "c3.cid"
      ],
      "metadata": {
        "colab": {
          "base_uri": "https://localhost:8080/"
        },
        "id": "RVyw1ZxfuZkx",
        "outputId": "272bde26-4699-41ee-b74e-07cacbaf7669"
      },
      "execution_count": null,
      "outputs": [
        {
          "output_type": "execute_result",
          "data": {
            "text/plain": [
              "1"
            ]
          },
          "metadata": {},
          "execution_count": 7
        }
      ]
    },
    {
      "cell_type": "code",
      "source": [
        "# instance variable -> object ka variable, different for every object.\n",
        "#static variable -> class ka variable, same for every variable.\n"
      ],
      "metadata": {
        "id": "zlYUwo54uxwz"
      },
      "execution_count": null,
      "outputs": []
    },
    {
      "cell_type": "code",
      "source": [
        "class Atm:    #user defined classs\n",
        "  #constructor(speecial function)->superpwer no need to call the function it get call explicitely\n",
        "  __counter = 1   # static variable\n",
        "\n",
        "\n",
        "  def __init__(self):\n",
        "    print(id(self))\n",
        "    self.pin =''  # put __ before the name of variable to make it private.\n",
        "    self.__balance =0            #__balance -> _Atm__balance\n",
        "    self.cid = Atm.__counter   # static varible with the help of class name\n",
        "    Atm.__counter = Atm.__counter+1\n",
        "\n",
        "    # self.menu()\n",
        "  def get_counter():\n",
        "    return Atm.__counter\n",
        "\n",
        "  #utlity functions\n",
        "  @staticmethod     #->decorator      #no need to create the object for this.\n",
        "  def get_balance(self):      #getter functions are used to retrieve the values of private attributes.\n",
        "      return self.__balance\n",
        "\n",
        "  def set_balance(self,new_value):   #modify and update the value of an object.\n",
        "     if type(new_value) == int:\n",
        "       self.__balance = new_value\n",
        "     else:\n",
        "      print('invalid')\n",
        "\n",
        "  def __menu(self):\n",
        "\n",
        "     user_input = input(\"\"\"\n",
        "    hi how can i help you?\n",
        "    1. press 1 to create pin\n",
        "    2. press 2 to change pin\n",
        "    3. press 3 to check balance\n",
        "    4. press 4 to  withdraw\n",
        "    5. press 5 to exit\n",
        "    \"\"\")\n",
        "     if user_input == '1':\n",
        "      #create pin\n",
        "      self.create_pin()\n",
        "     elif user_input == '2':\n",
        "      #change pin\n",
        "      self.change_pin()\n",
        "     elif user_input == '3':\n",
        "      #check balance\n",
        "      self.check_balance()\n",
        "     elif user_input == '4':\n",
        "      # withdraw\n",
        "      self.withdraw()\n",
        "     else:\n",
        "       exit()\n",
        "  def create_pin(self):\n",
        "    user_pin = input('enter your pin')\n",
        "    self.pin = user_pin\n",
        "\n",
        "    user_balance = int(input('enter your balance '))\n",
        "    self.__balance = user_balance\n",
        "\n",
        "    print('pin created succesfully ')\n",
        "    self.__menu()\n",
        "\n",
        "  def change_pin(self):\n",
        "    old_pin = input('enter your old pin')\n",
        "    if old_pin == self.pin:\n",
        "      #let him change the pin\n",
        "      new_pin = input('enter new pin')\n",
        "      print('pin change succesfully')\n",
        "      self.__menu()\n",
        "    else:\n",
        "      print('invalid')\n",
        "      self.__menu()\n",
        "\n",
        "    def check_balance(self):\n",
        "      user_pin = input('enter your pin')\n",
        "      if user_pin == self.pin:\n",
        "        print('your balance is', self.__balance)\n",
        "      else:\n",
        "        print('wrong pin')\n",
        "\n",
        "    def withdraw(self):\n",
        "      user_pin = input('enter the pin')\n",
        "      if user_pin == self.pin:\n",
        "        #allow to withdraw\n",
        "        amount = int(input('enter the amount'))\n",
        "        if amount<=self.__balance:\n",
        "          self.__balance = self.__balance - amount\n",
        "          print('withdrawl  succesfull')\n",
        "        else:\n",
        "            print('insuficient balance')\n",
        "      else:\n",
        "          print('invalid')\n",
        "      self.__menu()"
      ],
      "metadata": {
        "id": "N9GiCXkmv3CK"
      },
      "execution_count": null,
      "outputs": []
    },
    {
      "cell_type": "code",
      "source": [
        "c1 = Atm()"
      ],
      "metadata": {
        "colab": {
          "base_uri": "https://localhost:8080/"
        },
        "id": "Z_E-j07TwrpW",
        "outputId": "93979f63-b921-40f7-a4d9-35e5e510f3c3"
      },
      "execution_count": null,
      "outputs": [
        {
          "output_type": "stream",
          "name": "stdout",
          "text": [
            "133827496767792\n"
          ]
        }
      ]
    },
    {
      "cell_type": "code",
      "source": [
        "c2 =Atm()"
      ],
      "metadata": {
        "colab": {
          "base_uri": "https://localhost:8080/"
        },
        "id": "Eut4MsiHwub4",
        "outputId": "ff840b43-d506-4820-ee0b-1006e0402052"
      },
      "execution_count": null,
      "outputs": [
        {
          "output_type": "stream",
          "name": "stdout",
          "text": [
            "133827840100432\n"
          ]
        }
      ]
    },
    {
      "cell_type": "code",
      "source": [
        "c3 =Atm()"
      ],
      "metadata": {
        "colab": {
          "base_uri": "https://localhost:8080/"
        },
        "id": "lWbEAgu_ww-6",
        "outputId": "e1ce8b2c-3787-4f4a-d365-02b691e388a2"
      },
      "execution_count": null,
      "outputs": [
        {
          "output_type": "stream",
          "name": "stdout",
          "text": [
            "133827840104848\n"
          ]
        }
      ]
    },
    {
      "cell_type": "code",
      "source": [
        "c1.cid"
      ],
      "metadata": {
        "colab": {
          "base_uri": "https://localhost:8080/"
        },
        "id": "eZV22szHwzhJ",
        "outputId": "89ca116d-b2f3-4176-e123-2b8144e06eaf"
      },
      "execution_count": null,
      "outputs": [
        {
          "output_type": "execute_result",
          "data": {
            "text/plain": [
              "1"
            ]
          },
          "metadata": {},
          "execution_count": 14
        }
      ]
    },
    {
      "cell_type": "code",
      "source": [
        "c2.cid"
      ],
      "metadata": {
        "colab": {
          "base_uri": "https://localhost:8080/"
        },
        "id": "33QLqDqzw51y",
        "outputId": "c5f42748-a619-44d8-adb1-f90484fbf9bb"
      },
      "execution_count": null,
      "outputs": [
        {
          "output_type": "execute_result",
          "data": {
            "text/plain": [
              "2"
            ]
          },
          "metadata": {},
          "execution_count": 15
        }
      ]
    },
    {
      "cell_type": "code",
      "source": [
        "c3.cid"
      ],
      "metadata": {
        "colab": {
          "base_uri": "https://localhost:8080/"
        },
        "id": "DWKAJwLhw8IY",
        "outputId": "43ac73d4-4437-4291-f18f-e2bec0ca8cc6"
      },
      "execution_count": null,
      "outputs": [
        {
          "output_type": "execute_result",
          "data": {
            "text/plain": [
              "3"
            ]
          },
          "metadata": {},
          "execution_count": 16
        }
      ]
    },
    {
      "cell_type": "code",
      "source": [
        "Atm.counter"
      ],
      "metadata": {
        "colab": {
          "base_uri": "https://localhost:8080/"
        },
        "id": "N_AABKrWw-sK",
        "outputId": "174b3765-a8f9-4246-ee83-869f6c4c16e7"
      },
      "execution_count": null,
      "outputs": [
        {
          "output_type": "execute_result",
          "data": {
            "text/plain": [
              "4"
            ]
          },
          "metadata": {},
          "execution_count": 17
        }
      ]
    },
    {
      "cell_type": "code",
      "source": [
        "Atm.counter = 'hehhe'"
      ],
      "metadata": {
        "id": "MPLXs4NfxZoW"
      },
      "execution_count": null,
      "outputs": []
    },
    {
      "cell_type": "code",
      "source": [
        "c1 =Atm()"
      ],
      "metadata": {
        "colab": {
          "base_uri": "https://localhost:8080/",
          "height": 280
        },
        "id": "XVtu7pPbxgTm",
        "outputId": "b5d2c4ba-3fd6-49c9-88fb-0f7298420f27"
      },
      "execution_count": null,
      "outputs": [
        {
          "output_type": "stream",
          "name": "stdout",
          "text": [
            "133827826628112\n"
          ]
        },
        {
          "output_type": "error",
          "ename": "TypeError",
          "evalue": "can only concatenate str (not \"int\") to str",
          "traceback": [
            "\u001b[0;31m---------------------------------------------------------------------------\u001b[0m",
            "\u001b[0;31mTypeError\u001b[0m                                 Traceback (most recent call last)",
            "\u001b[0;32m<ipython-input-19-370958ca813f>\u001b[0m in \u001b[0;36m<cell line: 1>\u001b[0;34m()\u001b[0m\n\u001b[0;32m----> 1\u001b[0;31m \u001b[0mc1\u001b[0m \u001b[0;34m=\u001b[0m\u001b[0mAtm\u001b[0m\u001b[0;34m(\u001b[0m\u001b[0;34m)\u001b[0m\u001b[0;34m\u001b[0m\u001b[0;34m\u001b[0m\u001b[0m\n\u001b[0m",
            "\u001b[0;32m<ipython-input-10-d1b5574ff9fd>\u001b[0m in \u001b[0;36m__init__\u001b[0;34m(self)\u001b[0m\n\u001b[1;32m      9\u001b[0m     \u001b[0mself\u001b[0m\u001b[0;34m.\u001b[0m\u001b[0m__balance\u001b[0m \u001b[0;34m=\u001b[0m\u001b[0;36m0\u001b[0m            \u001b[0;31m#__balance -> _Atm__balance\u001b[0m\u001b[0;34m\u001b[0m\u001b[0;34m\u001b[0m\u001b[0m\n\u001b[1;32m     10\u001b[0m     \u001b[0mself\u001b[0m\u001b[0;34m.\u001b[0m\u001b[0mcid\u001b[0m \u001b[0;34m=\u001b[0m \u001b[0mAtm\u001b[0m\u001b[0;34m.\u001b[0m\u001b[0mcounter\u001b[0m   \u001b[0;31m# static varible with the help of class name\u001b[0m\u001b[0;34m\u001b[0m\u001b[0;34m\u001b[0m\u001b[0m\n\u001b[0;32m---> 11\u001b[0;31m     \u001b[0mAtm\u001b[0m\u001b[0;34m.\u001b[0m\u001b[0mcounter\u001b[0m \u001b[0;34m=\u001b[0m \u001b[0mAtm\u001b[0m\u001b[0;34m.\u001b[0m\u001b[0mcounter\u001b[0m\u001b[0;34m+\u001b[0m\u001b[0;36m1\u001b[0m\u001b[0;34m\u001b[0m\u001b[0;34m\u001b[0m\u001b[0m\n\u001b[0m\u001b[1;32m     12\u001b[0m \u001b[0;34m\u001b[0m\u001b[0m\n\u001b[1;32m     13\u001b[0m     \u001b[0;31m# self.menu()\u001b[0m\u001b[0;34m\u001b[0m\u001b[0;34m\u001b[0m\u001b[0m\n",
            "\u001b[0;31mTypeError\u001b[0m: can only concatenate str (not \"int\") to str"
          ]
        }
      ]
    },
    {
      "cell_type": "code",
      "source": [
        "c1 =Atm()"
      ],
      "metadata": {
        "colab": {
          "base_uri": "https://localhost:8080/"
        },
        "id": "OPGD8IJRyTpv",
        "outputId": "77cfc4bb-c583-425f-940f-e9a0406dd25f"
      },
      "execution_count": null,
      "outputs": [
        {
          "output_type": "stream",
          "name": "stdout",
          "text": [
            "133827826628208\n"
          ]
        }
      ]
    },
    {
      "cell_type": "code",
      "source": [
        "c1.get_counter()"
      ],
      "metadata": {
        "colab": {
          "base_uri": "https://localhost:8080/",
          "height": 141
        },
        "id": "FoRq_oEoyV0G",
        "outputId": "6ff42ed3-54c5-47ca-a7c9-9cec498277a1"
      },
      "execution_count": null,
      "outputs": [
        {
          "output_type": "error",
          "ename": "TypeError",
          "evalue": "Atm.get_counter() takes 0 positional arguments but 1 was given",
          "traceback": [
            "\u001b[0;31m---------------------------------------------------------------------------\u001b[0m",
            "\u001b[0;31mTypeError\u001b[0m                                 Traceback (most recent call last)",
            "\u001b[0;32m<ipython-input-22-e3740219a44a>\u001b[0m in \u001b[0;36m<cell line: 1>\u001b[0;34m()\u001b[0m\n\u001b[0;32m----> 1\u001b[0;31m \u001b[0mc1\u001b[0m\u001b[0;34m.\u001b[0m\u001b[0mget_counter\u001b[0m\u001b[0;34m(\u001b[0m\u001b[0;34m)\u001b[0m\u001b[0;34m\u001b[0m\u001b[0;34m\u001b[0m\u001b[0m\n\u001b[0m",
            "\u001b[0;31mTypeError\u001b[0m: Atm.get_counter() takes 0 positional arguments but 1 was given"
          ]
        }
      ]
    },
    {
      "cell_type": "code",
      "source": [
        "Atm.get_counter()"
      ],
      "metadata": {
        "colab": {
          "base_uri": "https://localhost:8080/"
        },
        "id": "ZVqpRsA2ycdN",
        "outputId": "2141db02-0318-4b91-acf4-33244f2e6282"
      },
      "execution_count": null,
      "outputs": [
        {
          "output_type": "execute_result",
          "data": {
            "text/plain": [
              "2"
            ]
          },
          "metadata": {},
          "execution_count": 23
        }
      ]
    },
    {
      "cell_type": "markdown",
      "source": [
        "# static methods\n",
        "# Static attributes are created at class level.\n",
        "# Static attributes are accessed using ClassName.\n",
        "# Static attributes are object independent. We can access them without creating instance (object) of the class in which they are defined.\n",
        "# The value stored in static attribute is shared between all instances(objects) of the class in which the static attribute is defined."
      ],
      "metadata": {
        "id": "moQNDSkcxLyq"
      }
    },
    {
      "cell_type": "markdown",
      "source": [
        "## class relationship\n",
        "# aggregation\n",
        "# inheritance"
      ],
      "metadata": {
        "id": "CLDwB4Jmwjhg"
      }
    },
    {
      "cell_type": "markdown",
      "source": [
        "# aggregationn(has a relationship) -> ones class owns the other class"
      ],
      "metadata": {
        "id": "gNhlp3NSw3ZG"
      }
    },
    {
      "cell_type": "code",
      "source": [
        "# example\n",
        "class customer:\n",
        "  def __init__(self,name,gender,address):\n",
        "    self.name = name\n",
        "    self.gender= gender\n",
        "    self.address = address   # we are passing object in constructor\n",
        "\n",
        "  def print_address(self):\n",
        "    print(self.address.city,self.address.pin,self.address.state)\n",
        "\n",
        "class address:\n",
        "  def __init__(self,city,pin,state):\n",
        "    self.city = city\n",
        "    self.pin = pin\n",
        "    self.state = state\n",
        "\n",
        "add1 = address('gurgaon',122011,'haryana')\n",
        "cust = customer('nitish','male',add1)\n",
        "\n",
        "cust.print_address()\n"
      ],
      "metadata": {
        "id": "6a6e8HkOxJV8",
        "colab": {
          "base_uri": "https://localhost:8080/"
        },
        "outputId": "b57c9968-e976-48ca-d13d-ea9856feda22"
      },
      "execution_count": null,
      "outputs": [
        {
          "output_type": "stream",
          "name": "stdout",
          "text": [
            "gurgaon 122011 haryana\n"
          ]
        }
      ]
    },
    {
      "cell_type": "code",
      "source": [
        "class customer:\n",
        "  def __init__(self,name,gender,address):\n",
        "    self.name = name\n",
        "    self.gender= gender\n",
        "    self.address = address   # we are passing object in constructor\n",
        "\n",
        "  def print_address(self):\n",
        "    print(self.address.__city,self.address.pin,self.address.state)\n",
        "# you can not access private attributes while aggregation\n",
        "class address:\n",
        "  def __init__(self,city,pin,state):\n",
        "    self.__format__city = city\n",
        "    self.pin = pin\n",
        "    self.state = state\n",
        "\n",
        "add1 = address('gurgaon',122011,'haryana')\n",
        "cust = customer('nitish','male',add1)\n",
        "\n",
        "cust.print_address()"
      ],
      "metadata": {
        "colab": {
          "base_uri": "https://localhost:8080/",
          "height": 308
        },
        "id": "vkh8fXq804hr",
        "outputId": "8dc3fb52-8515-4972-e525-f3b5de066fd4"
      },
      "execution_count": null,
      "outputs": [
        {
          "output_type": "error",
          "ename": "AttributeError",
          "evalue": "'address' object has no attribute '_customer__city'",
          "traceback": [
            "\u001b[0;31m---------------------------------------------------------------------------\u001b[0m",
            "\u001b[0;31mAttributeError\u001b[0m                            Traceback (most recent call last)",
            "\u001b[0;32m<ipython-input-2-d599cde30f9b>\u001b[0m in \u001b[0;36m<cell line: 19>\u001b[0;34m()\u001b[0m\n\u001b[1;32m     17\u001b[0m \u001b[0mcust\u001b[0m \u001b[0;34m=\u001b[0m \u001b[0mcustomer\u001b[0m\u001b[0;34m(\u001b[0m\u001b[0;34m'nitish'\u001b[0m\u001b[0;34m,\u001b[0m\u001b[0;34m'male'\u001b[0m\u001b[0;34m,\u001b[0m\u001b[0madd1\u001b[0m\u001b[0;34m)\u001b[0m\u001b[0;34m\u001b[0m\u001b[0;34m\u001b[0m\u001b[0m\n\u001b[1;32m     18\u001b[0m \u001b[0;34m\u001b[0m\u001b[0m\n\u001b[0;32m---> 19\u001b[0;31m \u001b[0mcust\u001b[0m\u001b[0;34m.\u001b[0m\u001b[0mprint_address\u001b[0m\u001b[0;34m(\u001b[0m\u001b[0;34m)\u001b[0m\u001b[0;34m\u001b[0m\u001b[0;34m\u001b[0m\u001b[0m\n\u001b[0m",
            "\u001b[0;32m<ipython-input-2-d599cde30f9b>\u001b[0m in \u001b[0;36mprint_address\u001b[0;34m(self)\u001b[0m\n\u001b[1;32m      6\u001b[0m \u001b[0;34m\u001b[0m\u001b[0m\n\u001b[1;32m      7\u001b[0m   \u001b[0;32mdef\u001b[0m \u001b[0mprint_address\u001b[0m\u001b[0;34m(\u001b[0m\u001b[0mself\u001b[0m\u001b[0;34m)\u001b[0m\u001b[0;34m:\u001b[0m\u001b[0;34m\u001b[0m\u001b[0;34m\u001b[0m\u001b[0m\n\u001b[0;32m----> 8\u001b[0;31m     \u001b[0mprint\u001b[0m\u001b[0;34m(\u001b[0m\u001b[0mself\u001b[0m\u001b[0;34m.\u001b[0m\u001b[0maddress\u001b[0m\u001b[0;34m.\u001b[0m\u001b[0m__city\u001b[0m\u001b[0;34m,\u001b[0m\u001b[0mself\u001b[0m\u001b[0;34m.\u001b[0m\u001b[0maddress\u001b[0m\u001b[0;34m.\u001b[0m\u001b[0mpin\u001b[0m\u001b[0;34m,\u001b[0m\u001b[0mself\u001b[0m\u001b[0;34m.\u001b[0m\u001b[0maddress\u001b[0m\u001b[0;34m.\u001b[0m\u001b[0mstate\u001b[0m\u001b[0;34m)\u001b[0m\u001b[0;34m\u001b[0m\u001b[0;34m\u001b[0m\u001b[0m\n\u001b[0m\u001b[1;32m      9\u001b[0m \u001b[0;34m\u001b[0m\u001b[0m\n\u001b[1;32m     10\u001b[0m \u001b[0;32mclass\u001b[0m \u001b[0maddress\u001b[0m\u001b[0;34m:\u001b[0m\u001b[0;34m\u001b[0m\u001b[0;34m\u001b[0m\u001b[0m\n",
            "\u001b[0;31mAttributeError\u001b[0m: 'address' object has no attribute '_customer__city'"
          ]
        }
      ]
    },
    {
      "cell_type": "code",
      "source": [
        "class customer:\n",
        "  def __init__(self,name,gender,address):\n",
        "    self.name = name\n",
        "    self.gender= gender\n",
        "    self.address = address   # we are passing object in constructor\n",
        "\n",
        "  def print_address(self):\n",
        "    print(self.address.get_city(),self.address.pin,self.address.state)\n",
        "\n",
        "  def edit_profile(self,new_name,new_city,new_pin,new_state):\n",
        "    self.name  = new_name\n",
        "    self.address.edit_address(new_city,new_pin,new_state)\n",
        "\n",
        "\n",
        "class address:\n",
        "  def __init__(self,city,pin,state):\n",
        "    self.__city = city\n",
        "    self.pin = pin\n",
        "    self.state = state\n",
        "\n",
        "  def get_city(self):\n",
        "    return self.__city\n",
        "\n",
        "  def edit_address(self,new_city, new_pin,new_state):\n",
        "    self.__city = new_city\n",
        "    self.pin =new_pin\n",
        "    self.state = new_state\n",
        "\n",
        "add1 = address('gurgaon',122011,'haryana')\n",
        "cust = customer('nitish','male',add1)\n",
        "\n",
        "cust.print_address()\n",
        "cust.edit_profile('ankit','gangoh',12221,'up')\n",
        "cust.print_address()"
      ],
      "metadata": {
        "colab": {
          "base_uri": "https://localhost:8080/"
        },
        "id": "ygkQHGr41V2p",
        "outputId": "5ec5fd5d-c147-4101-bd5d-e9c00bbfa9eb"
      },
      "execution_count": null,
      "outputs": [
        {
          "output_type": "stream",
          "name": "stdout",
          "text": [
            "gurgaon 122011 haryana\n",
            "gangoh 12221 up\n"
          ]
        }
      ]
    },
    {
      "cell_type": "markdown",
      "source": [
        "# aggregation class diagram"
      ],
      "metadata": {
        "id": "hc4LVFVQ28Hy"
      }
    },
    {
      "cell_type": "markdown",
      "source": [
        "# inheritance"
      ],
      "metadata": {
        "id": "nkYk1n-ivUaf"
      }
    },
    {
      "cell_type": "code",
      "source": [
        "# parent class\n",
        "class User:\n",
        "\n",
        "  def __init__(self):\n",
        "    self.name = 'nitish'\n",
        "\n",
        "  def login(self):\n",
        "    print('login')\n",
        "  # child class\n",
        "class Student(User):\n",
        "\n",
        "  # def __init__(self):     parents constructor is only called when child class constructor is not there.\n",
        "    # self.rollno = 100\n",
        "\n",
        "  def enroll(self):\n",
        "    print('enroll into the course ')\n",
        "\n",
        "u = User()\n",
        "s = Student()\n",
        "print(s.name)\n",
        "# print(s.rollno)\n",
        "s.login()\n",
        "s.enroll()\n"
      ],
      "metadata": {
        "id": "TWqtO6w02ti3",
        "colab": {
          "base_uri": "https://localhost:8080/"
        },
        "outputId": "7ec7e937-b69b-4a25-e9b9-e46f0a27d753"
      },
      "execution_count": null,
      "outputs": [
        {
          "output_type": "stream",
          "name": "stdout",
          "text": [
            "nitish\n",
            "login\n",
            "enroll into the course \n"
          ]
        }
      ]
    },
    {
      "cell_type": "markdown",
      "source": [
        "# what gets inherited\n",
        "# constructor\n",
        "# non private Attributes\n",
        "# non private methods\n"
      ],
      "metadata": {
        "id": "CsnTZ9DB1Smb"
      }
    },
    {
      "cell_type": "code",
      "source": [
        "#constructor exmaple\n",
        "class Phone:\n",
        "  def __init__(self,price,camera,brand):\n",
        "    print(\"inside phone constructor\")\n",
        "    self.price = price\n",
        "    self.camera = camera\n",
        "    self.brand = brand\n",
        "\n",
        "  def buy(self):\n",
        "      print(\"buying a phone\")\n",
        "\n",
        "class Smartphone(Phone):\n",
        "  pass    # when there is no constructor in child class parent class cconstructor will be called.\n",
        "\n",
        "s = Smartphone(2000,   13,\"Apple\")\n",
        "s.buy()    #nonn priavte mthod\n"
      ],
      "metadata": {
        "id": "4apJwJBo0biC",
        "colab": {
          "base_uri": "https://localhost:8080/"
        },
        "outputId": "b4554909-959a-496d-ad23-e2e41747f91d"
      },
      "execution_count": null,
      "outputs": [
        {
          "output_type": "stream",
          "name": "stdout",
          "text": [
            "inside phone constructor\n",
            "buying a phone\n"
          ]
        }
      ]
    },
    {
      "cell_type": "code",
      "source": [
        "#constructor exmaple\n",
        "class Phone:\n",
        "  def __init__(self,price,camera,brand):\n",
        "    print(\"inside phone constructor\")   #this code will not be runned.\n",
        "    self.price = price\n",
        "    self.camera = camera\n",
        "    self.brand = brand\n",
        "\n",
        "class smartphone(Phone):\n",
        "  def __init__(self,os,ram):    #here parent class constructor will be called and\n",
        "    self.os = os\n",
        "    self.ram = ram\n",
        "    print(\"inside samrtphone constructor\")\n",
        "\n",
        "s = smartphone(\"android\",2)"
      ],
      "metadata": {
        "colab": {
          "base_uri": "https://localhost:8080/"
        },
        "id": "XSWs-gk5t1tB",
        "outputId": "510f850d-f95e-4818-c8a2-8d4cd67aa74b"
      },
      "execution_count": null,
      "outputs": [
        {
          "output_type": "stream",
          "name": "stdout",
          "text": [
            "inside samrtphone constructor\n"
          ]
        }
      ]
    },
    {
      "cell_type": "code",
      "source": [
        "#child cant access private members of the class.\n",
        "class Phone:\n",
        "  def __init__(self,price, brand, camera):\n",
        "    print(\"inside phone constructor\")\n",
        "    self.__price = price\n",
        "    self.brand = brand\n",
        "    self.camera = camera\n",
        "\n",
        "  def Show(self):\n",
        "    print(\"self.__price\")\n",
        "\n",
        "class smartphone (Phone):\n",
        "  def Check(self):\n",
        "    print(\"self.__price\")\n",
        "s = smartphone(20000,\"apple\", 15)\n",
        "s.Check()\n",
        "print(s.brand)\n",
        "s.Show()\n"
      ],
      "metadata": {
        "colab": {
          "base_uri": "https://localhost:8080/"
        },
        "id": "DvlC8mR4GUe1",
        "outputId": "57738753-9827-4031-93cd-2cf2175428eb"
      },
      "execution_count": null,
      "outputs": [
        {
          "output_type": "stream",
          "name": "stdout",
          "text": [
            "inside phone constructor\n",
            "self.__price\n",
            "apple\n",
            "self.__price\n"
          ]
        }
      ]
    },
    {
      "cell_type": "code",
      "source": [
        "class parent :\n",
        "  def __init__(self,num):\n",
        "    self.__num = num\n",
        "\n",
        "  def get_num(self):\n",
        "    return self.__num\n",
        "\n",
        "class Child(parent):\n",
        "  def show(self):\n",
        "    print(\"this is in child class\")\n",
        "\n",
        "son = Child(100)\n",
        "print(son.get_num())\n",
        "son.show()"
      ],
      "metadata": {
        "colab": {
          "base_uri": "https://localhost:8080/"
        },
        "id": "s537O8jZcIyt",
        "outputId": "0a2bd3ad-c28d-41bb-b2e3-0ce2ba859822"
      },
      "execution_count": null,
      "outputs": [
        {
          "output_type": "stream",
          "name": "stdout",
          "text": [
            "100\n",
            "this is in child class\n"
          ]
        }
      ]
    },
    {
      "cell_type": "code",
      "source": [
        "class parent :\n",
        "  def __init__(self,num):\n",
        "    self.__num = num\n",
        "\n",
        "  def get_num(self):\n",
        "    return self.__num\n",
        "\n",
        "class child(parent):\n",
        "  def __init__(self,val,num):\n",
        "    self.__val = val\n",
        "\n",
        "  def  get_val(self):\n",
        "      return self.__val\n",
        "\n",
        "son = child(100,10)\n",
        "print(\"parent : Num\", son.get_num())\n",
        "print(\"child : val\" , son.get_val())\n"
      ],
      "metadata": {
        "colab": {
          "base_uri": "https://localhost:8080/",
          "height": 327
        },
        "id": "rBOQDbO1bdUm",
        "outputId": "ad4cf486-7da6-4828-b0eb-39cc41d41e22"
      },
      "execution_count": null,
      "outputs": [
        {
          "output_type": "error",
          "ename": "AttributeError",
          "evalue": "'child' object has no attribute '_parent__num'",
          "traceback": [
            "\u001b[0;31m---------------------------------------------------------------------------\u001b[0m",
            "\u001b[0;31mAttributeError\u001b[0m                            Traceback (most recent call last)",
            "\u001b[0;32m<ipython-input-6-d9ec89afcec3>\u001b[0m in \u001b[0;36m<cell line: 16>\u001b[0;34m()\u001b[0m\n\u001b[1;32m     14\u001b[0m \u001b[0;34m\u001b[0m\u001b[0m\n\u001b[1;32m     15\u001b[0m \u001b[0mson\u001b[0m \u001b[0;34m=\u001b[0m \u001b[0mchild\u001b[0m\u001b[0;34m(\u001b[0m\u001b[0;36m100\u001b[0m\u001b[0;34m,\u001b[0m\u001b[0;36m10\u001b[0m\u001b[0;34m)\u001b[0m\u001b[0;34m\u001b[0m\u001b[0;34m\u001b[0m\u001b[0m\n\u001b[0;32m---> 16\u001b[0;31m \u001b[0mprint\u001b[0m\u001b[0;34m(\u001b[0m\u001b[0;34m\"parent : Num\"\u001b[0m\u001b[0;34m,\u001b[0m \u001b[0mson\u001b[0m\u001b[0;34m.\u001b[0m\u001b[0mget_num\u001b[0m\u001b[0;34m(\u001b[0m\u001b[0;34m)\u001b[0m\u001b[0;34m)\u001b[0m\u001b[0;34m\u001b[0m\u001b[0;34m\u001b[0m\u001b[0m\n\u001b[0m\u001b[1;32m     17\u001b[0m \u001b[0mprint\u001b[0m\u001b[0;34m(\u001b[0m\u001b[0;34m\"child : val\"\u001b[0m \u001b[0;34m,\u001b[0m \u001b[0mson\u001b[0m\u001b[0;34m.\u001b[0m\u001b[0mget_val\u001b[0m\u001b[0;34m(\u001b[0m\u001b[0;34m)\u001b[0m\u001b[0;34m)\u001b[0m\u001b[0;34m\u001b[0m\u001b[0;34m\u001b[0m\u001b[0m\n",
            "\u001b[0;32m<ipython-input-6-d9ec89afcec3>\u001b[0m in \u001b[0;36mget_num\u001b[0;34m(self)\u001b[0m\n\u001b[1;32m      4\u001b[0m \u001b[0;34m\u001b[0m\u001b[0m\n\u001b[1;32m      5\u001b[0m   \u001b[0;32mdef\u001b[0m \u001b[0mget_num\u001b[0m\u001b[0;34m(\u001b[0m\u001b[0mself\u001b[0m\u001b[0;34m)\u001b[0m\u001b[0;34m:\u001b[0m\u001b[0;34m\u001b[0m\u001b[0;34m\u001b[0m\u001b[0m\n\u001b[0;32m----> 6\u001b[0;31m     \u001b[0;32mreturn\u001b[0m \u001b[0mself\u001b[0m\u001b[0;34m.\u001b[0m\u001b[0m__num\u001b[0m\u001b[0;34m\u001b[0m\u001b[0;34m\u001b[0m\u001b[0m\n\u001b[0m\u001b[1;32m      7\u001b[0m \u001b[0;34m\u001b[0m\u001b[0m\n\u001b[1;32m      8\u001b[0m \u001b[0;32mclass\u001b[0m \u001b[0mchild\u001b[0m\u001b[0;34m(\u001b[0m\u001b[0mparent\u001b[0m\u001b[0;34m)\u001b[0m\u001b[0;34m:\u001b[0m\u001b[0;34m\u001b[0m\u001b[0;34m\u001b[0m\u001b[0m\n",
            "\u001b[0;31mAttributeError\u001b[0m: 'child' object has no attribute '_parent__num'"
          ]
        }
      ]
    },
    {
      "cell_type": "code",
      "source": [
        "class A:\n",
        "  def __init__(self):\n",
        "    self.var1 = 100\n",
        "\n",
        "  def display(self,var1):\n",
        "    print(\"class A:\", self.var1)\n",
        "\n",
        "class B(A):\n",
        "  def display2(self,var1):\n",
        "    print(\"class B:\", self.var1)\n",
        "\n",
        "obj = B()\n",
        "obj.display(200)"
      ],
      "metadata": {
        "colab": {
          "base_uri": "https://localhost:8080/"
        },
        "id": "58_rDWWDguot",
        "outputId": "4a9278e9-c6f0-47b2-ac23-09737687bff9"
      },
      "execution_count": null,
      "outputs": [
        {
          "output_type": "stream",
          "name": "stdout",
          "text": [
            "class A: 100\n"
          ]
        }
      ]
    },
    {
      "cell_type": "code",
      "source": [
        "#method overiding\n",
        "class phone:\n",
        "  def __init__(self, price , brand, camera):\n",
        "    print(\"inside phone constructor\")\n",
        "    self.__price = price\n",
        "    self.brand = brand\n",
        "    self.camera = camera\n",
        "\n",
        "  def buy(self):\n",
        "    print(\"buying a phone\")\n",
        "\n",
        "class smartphone(phone):\n",
        "  def buy(self):       #always child class constructor will be called in method overrding.\n",
        "    print(\"buying a smartphone\")\n",
        "\n",
        "s= smartphone(2000, \"apple\", 13)\n",
        "s.buy()"
      ],
      "metadata": {
        "colab": {
          "base_uri": "https://localhost:8080/"
        },
        "id": "YfIKDCzOhcej",
        "outputId": "c7afce45-9102-406b-9754-8c0d3eed906b"
      },
      "execution_count": null,
      "outputs": [
        {
          "output_type": "stream",
          "name": "stdout",
          "text": [
            "inside phone constructor\n",
            "buying a smartphone\n"
          ]
        }
      ]
    },
    {
      "cell_type": "code",
      "source": [
        "#super keyword\n",
        "class phone:\n",
        "  def __init__(self,price ,brand , camera):\n",
        "    print(\"inside phone constructor\")\n",
        "    self.__price = price\n",
        "    self.brand = brand\n",
        "    self.camera = camera\n",
        "\n",
        "  def buy(self):\n",
        "    print(\"buying a phone\")\n",
        "\n",
        "class smartphone(phone):\n",
        "  def buy(self):\n",
        "    print(\"buying a smartphone\")\n",
        "    #syntax to call parents buy method\n",
        "    super().buy()    #way to access parents method.\n",
        "s = smartphone(2000, \"apple\", 15)\n",
        "s.buy()\n"
      ],
      "metadata": {
        "id": "59BB2D51ktgU",
        "colab": {
          "base_uri": "https://localhost:8080/"
        },
        "outputId": "e8dfcc08-84c5-4a1e-a9dc-8b2551fa0457"
      },
      "execution_count": null,
      "outputs": [
        {
          "output_type": "stream",
          "name": "stdout",
          "text": [
            "inside phone constructor\n",
            "buying a smartphone\n",
            "buying a phone\n"
          ]
        }
      ]
    },
    {
      "cell_type": "code",
      "source": [
        "#super -> constructor\n",
        "class phone:\n",
        "  def __init__(self,price ,brand , camera):\n",
        "    print(\"inside phone constructor\")\n",
        "    self.__price = price\n",
        "    self.brand = brand\n",
        "    self.camera = camera\n",
        "\n",
        "class smartphone(phone):\n",
        "  def __init__(self,price,brand, camera , os, ram):\n",
        "    print(\"inside samrtphone constructor\")\n",
        "    super().__init__(price,brand,camera)\n",
        "    self.os = os    #only inside child class super is used.\n",
        "    self.ram = ram\n",
        "    print(\"inside samrtphone constructor\")\n",
        "\n",
        "s = smartphone(20000, \"samsung\",12 , \"android\", 2)\n",
        "print(s.os)\n",
        "print(s.brand)\n"
      ],
      "metadata": {
        "colab": {
          "base_uri": "https://localhost:8080/"
        },
        "id": "0IWCj9nzVU0D",
        "outputId": "0eeba3ac-ad71-470a-efa2-aefd2d31f333"
      },
      "execution_count": null,
      "outputs": [
        {
          "output_type": "stream",
          "name": "stdout",
          "text": [
            "inside samrtphone constructor\n",
            "inside phone constructor\n",
            "inside samrtphone constructor\n",
            "android\n",
            "samsung\n"
          ]
        }
      ]
    },
    {
      "cell_type": "markdown",
      "source": [
        "# **inheritance in summary**\n",
        "## a class can inherit from another class\n",
        "# it improves code reuse\n",
        "# constructor, attributes and methods get inherited to the child class\n",
        "# the parent has no access to the child class\n",
        "## private properties of parents are not accessible directly inside child class\n",
        "## child class ca override the attributes and methods called methods overriding\n",
        "# super is an inbuilt function which is used to invoke the\n",
        "# parent class methods and constructors  "
      ],
      "metadata": {
        "id": "4adScrH2cPH6"
      }
    },
    {
      "cell_type": "markdown",
      "source": [
        "# **types of inheritance**\n",
        "# single\n",
        "# multilevel\n",
        "# hierarchical\n",
        "# multiple  diamond\n",
        "# hybrid"
      ],
      "metadata": {
        "id": "2oN8C_WO6Uob"
      }
    },
    {
      "cell_type": "code",
      "source": [
        "#single inheritance\n",
        "class phone:\n",
        "  def __init__(self,price,brand, camera):\n",
        "    print(\"inside phone constructor\")\n",
        "    self.__price = price\n",
        "    self.brand = brand\n",
        "    self.camera = camera\n",
        "\n",
        "  def buy(self):\n",
        "    print(\"buying a phone\")\n",
        "\n",
        "class smartphone(phone):\n",
        "  pass\n",
        "\n",
        "smartphone(1000, \"apple\", \"13px\",).buy()"
      ],
      "metadata": {
        "colab": {
          "base_uri": "https://localhost:8080/"
        },
        "id": "NBFYKWzX6jnS",
        "outputId": "7866f852-bc61-4bde-e2d9-a7861bb3e570"
      },
      "execution_count": null,
      "outputs": [
        {
          "output_type": "stream",
          "name": "stdout",
          "text": [
            "inside phone constructor\n",
            "buying a phone\n"
          ]
        }
      ]
    },
    {
      "cell_type": "code",
      "source": [
        "#multilevel\n",
        "class product:\n",
        "  def review(self):\n",
        "    print(\"product customer review\")\n",
        "\n",
        "class phone(product):\n",
        "  def __init__(self, price ,brand, camera):\n",
        "    print(\"inside phone constructor\")\n",
        "    self.__price = price\n",
        "    self.brand = brand\n",
        "    self.camera = camera\n",
        "\n",
        "  def buy(self):\n",
        "    print(\"buying a phone\")\n",
        "\n",
        "class smartphone(phone):\n",
        "  pass\n",
        "\n",
        "s = smartphone(2000,\"apple\", 12 )\n",
        "s.buy()\n",
        "s.review()"
      ],
      "metadata": {
        "colab": {
          "base_uri": "https://localhost:8080/"
        },
        "id": "JFMi3Q-b8Nhj",
        "outputId": "d1dbb9d2-be51-4fd1-92db-089270b9fb28"
      },
      "execution_count": null,
      "outputs": [
        {
          "output_type": "stream",
          "name": "stdout",
          "text": [
            "inside phone constructor\n",
            "buying a phone\n",
            "product customer review\n"
          ]
        }
      ]
    },
    {
      "cell_type": "code",
      "source": [
        "#hieracrchical\n",
        "class phone(product):\n",
        "  def __init__(self, price ,brand, camera):\n",
        "    print(\"inside phone constructor\")\n",
        "    self.__price = price\n",
        "    self.brand = brand\n",
        "    self.camera = camera\n",
        "\n",
        "  def buy(self):\n",
        "    print(\"buying a phone\")\n",
        "\n",
        "class smartphone(phone):\n",
        "  pass\n",
        "\n",
        "class Featurephone(phone):\n",
        "  pass\n",
        "\n",
        "smartphone(1000, \"apple\", \"13px\",).buy()\n",
        "Featurephone(1000, \"lava\", \"1px\",).buy()"
      ],
      "metadata": {
        "colab": {
          "base_uri": "https://localhost:8080/"
        },
        "id": "pdi4zpsP86aT",
        "outputId": "0a0ebd31-5817-4bd1-b9c0-d719c1659b8d"
      },
      "execution_count": null,
      "outputs": [
        {
          "output_type": "stream",
          "name": "stdout",
          "text": [
            "inside phone constructor\n",
            "buying a phone\n",
            "inside phone constructor\n",
            "buying a phone\n"
          ]
        }
      ]
    },
    {
      "cell_type": "code",
      "source": [
        "#multiple\n",
        "class phone(product):\n",
        "  def __init__(self, price ,brand, camera):\n",
        "    print(\"inside phone constructor\")\n",
        "    self.__price = price\n",
        "    self.brand = brand\n",
        "    self.camera = camera\n",
        "\n",
        "\n",
        "  def buy(self):\n",
        "    print(\"buying a phone\")\n",
        "\n",
        "class product:\n",
        "  def review(self):      #this code dont work in java\n",
        "    print(\"product customer review\")\n",
        "\n",
        "class smartphone(phone, product):\n",
        "  pass\n",
        "\n",
        "s = smartphone(2000, \"apple\", 12)\n",
        "s.buy()\n",
        "s.review()"
      ],
      "metadata": {
        "colab": {
          "base_uri": "https://localhost:8080/"
        },
        "id": "Gpib8qPSAe4E",
        "outputId": "ff815f18-6d39-4069-877e-2c83e0ad57f3"
      },
      "execution_count": null,
      "outputs": [
        {
          "output_type": "stream",
          "name": "stdout",
          "text": [
            "inside phone constructor\n",
            "buying a phone\n",
            "product customer review\n"
          ]
        }
      ]
    },
    {
      "cell_type": "code",
      "source": [
        "#diamond problem\n",
        "class phone(product):\n",
        "  def __init__(self, price ,brand, camera):\n",
        "    print(\"inside phone constructor\")\n",
        "    self.__price = price\n",
        "    self.brand = brand\n",
        "    self.camera = camera\n",
        "\n",
        "  def buy(self):\n",
        "    print(\"buying a phone\")\n",
        "\n",
        "class product:\n",
        "  def buy(self):      #this code dont work in java\n",
        "    print(\"product buy method\")\n",
        "    #method resolution order\n",
        "class smartphone(product , phone):\n",
        "  pass\n",
        "s = smartphone(2000, \"apple\", 12)\n",
        "s.buy()\n"
      ],
      "metadata": {
        "colab": {
          "base_uri": "https://localhost:8080/"
        },
        "id": "KoCqyEY5BWyT",
        "outputId": "b812a907-d848-4a66-bd08-d6ba13059fb7"
      },
      "execution_count": null,
      "outputs": [
        {
          "output_type": "stream",
          "name": "stdout",
          "text": [
            "inside phone constructor\n",
            "product buy method\n"
          ]
        }
      ]
    },
    {
      "cell_type": "markdown",
      "source": [
        "# **polymorphism**\n",
        "# method overriding\n",
        "# method overloading\n",
        "# operator overloading\n"
      ],
      "metadata": {
        "id": "Jrz7AjXkCenW"
      }
    },
    {
      "cell_type": "code",
      "source": [
        "#during inheritance while same name methods are called then child class method will be\n",
        "#  major callled method overriding"
      ],
      "metadata": {
        "id": "4dLOl32pCrev"
      },
      "execution_count": null,
      "outputs": []
    },
    {
      "cell_type": "code",
      "source": [
        "#method overloading\n",
        "class shape:\n",
        "  def area(self,radius):   #decided by input\n",
        "    return 3.14*radius*radius\n",
        "\n",
        "  def area(self,l, b):\n",
        "    return l*b\n",
        "#in python there is nothing method overloading  but in java it is"
      ],
      "metadata": {
        "id": "Npmxce7rDCuo"
      },
      "execution_count": null,
      "outputs": []
    },
    {
      "cell_type": "code",
      "source": [
        "#how to implelment method overloading in python\n",
        "class shape:\n",
        "  def area(self, a , b=0):\n",
        "    if b == 0:\n",
        "      return 3.14*a*a\n",
        "    else:\n",
        "      return a*b\n",
        "s = shape()\n",
        "print(s.area(2))\n",
        "print(s.area(2,3))"
      ],
      "metadata": {
        "colab": {
          "base_uri": "https://localhost:8080/"
        },
        "id": "OJk6O-bREG5Q",
        "outputId": "a80e5853-3ad9-484d-e980-d4e5aea447bc"
      },
      "execution_count": null,
      "outputs": [
        {
          "output_type": "stream",
          "name": "stdout",
          "text": [
            "12.56\n",
            "6\n"
          ]
        }
      ]
    },
    {
      "cell_type": "code",
      "source": [
        "#operator overloading\n",
        "'hello' + 'world'"
      ],
      "metadata": {
        "colab": {
          "base_uri": "https://localhost:8080/",
          "height": 36
        },
        "id": "zntiHp6ZFFLf",
        "outputId": "93aa42b5-f6a3-48d9-98ce-f6d1fd55ec45"
      },
      "execution_count": null,
      "outputs": [
        {
          "output_type": "execute_result",
          "data": {
            "text/plain": [
              "'helloworld'"
            ],
            "application/vnd.google.colaboratory.intrinsic+json": {
              "type": "string"
            }
          },
          "metadata": {},
          "execution_count": 15
        }
      ]
    },
    {
      "cell_type": "code",
      "source": [
        "#operator overloading\n",
        "4+5"
      ],
      "metadata": {
        "colab": {
          "base_uri": "https://localhost:8080/"
        },
        "id": "2vTKlB_DFOcg",
        "outputId": "8c58f6ef-544a-4ed9-8ce1-d48c39932677"
      },
      "execution_count": null,
      "outputs": [
        {
          "output_type": "execute_result",
          "data": {
            "text/plain": [
              "9"
            ]
          },
          "metadata": {},
          "execution_count": 16
        }
      ]
    },
    {
      "cell_type": "code",
      "source": [
        "#operator overloading\n",
        "[1,2,3]+[4,5]"
      ],
      "metadata": {
        "colab": {
          "base_uri": "https://localhost:8080/"
        },
        "id": "8J7I8JlhFU3g",
        "outputId": "01bf831a-59ca-48ad-e092-a41d00f82088"
      },
      "execution_count": null,
      "outputs": [
        {
          "output_type": "execute_result",
          "data": {
            "text/plain": [
              "[1, 2, 3, 4, 5]"
            ]
          },
          "metadata": {},
          "execution_count": 18
        }
      ]
    },
    {
      "cell_type": "markdown",
      "source": [
        "# abstraction"
      ],
      "metadata": {
        "id": "FZf0JAjdHwvA"
      }
    },
    {
      "cell_type": "code",
      "source": [
        "# abstract class   - that have at least one abstract method - method that is declared but not defined.\n",
        "from abc import ABC, abstractmethod\n",
        "class bankapp(ABC):\n",
        "  def database(self):\n",
        "    print(\"connected to database\") #we cant make objects of abstract class\n",
        "\n",
        "  @abstractmethod\n",
        "  def security(self):   #abstract method\n",
        "    pass"
      ],
      "metadata": {
        "id": "6_OHvRYrHyrB"
      },
      "execution_count": null,
      "outputs": []
    },
    {
      "cell_type": "code",
      "source": [
        "class mobileapp(bankapp):\n",
        "  def mobile_login(self):\n",
        "    print(\"login into mobile\")\n",
        "  def security(self):\n",
        "    print(\"mobile security\")\n"
      ],
      "metadata": {
        "id": "M4xkUpsuJjIK"
      },
      "execution_count": null,
      "outputs": []
    },
    {
      "cell_type": "code",
      "source": [
        "mob = mobileapp()"
      ],
      "metadata": {
        "id": "YAgdLrZkJ5RI"
      },
      "execution_count": null,
      "outputs": []
    },
    {
      "cell_type": "code",
      "source": [
        "mob.security()"
      ],
      "metadata": {
        "colab": {
          "base_uri": "https://localhost:8080/"
        },
        "id": "qOw5EQTAKADK",
        "outputId": "fe5107bb-5351-44a7-8394-ea13e4934ed9"
      },
      "execution_count": null,
      "outputs": [
        {
          "output_type": "stream",
          "name": "stdout",
          "text": [
            "mobile security\n"
          ]
        }
      ]
    },
    {
      "cell_type": "code",
      "source": [
        "mob.database()"
      ],
      "metadata": {
        "colab": {
          "base_uri": "https://localhost:8080/"
        },
        "id": "attF3xcXKTsP",
        "outputId": "66e13403-2ffc-46e6-d506-c4361e32ce90"
      },
      "execution_count": null,
      "outputs": [
        {
          "output_type": "stream",
          "name": "stdout",
          "text": [
            "connected to database\n"
          ]
        }
      ]
    }
  ]
}